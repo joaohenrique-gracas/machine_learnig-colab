{
  "nbformat": 4,
  "nbformat_minor": 0,
  "metadata": {
    "colab": {
      "provenance": [],
      "authorship_tag": "ABX9TyN2NHEpxOoC3RLcHJoKp6CC",
      "include_colab_link": true
    },
    "kernelspec": {
      "name": "python3",
      "display_name": "Python 3"
    },
    "language_info": {
      "name": "python"
    }
  },
  "cells": [
    {
      "cell_type": "markdown",
      "metadata": {
        "id": "view-in-github",
        "colab_type": "text"
      },
      "source": [
        "<a href=\"https://colab.research.google.com/github/joaohenrique-gracas/machine_learnig-colab/blob/main/Projeto_Machine_Learning.ipynb\" target=\"_parent\"><img src=\"https://colab.research.google.com/assets/colab-badge.svg\" alt=\"Open In Colab\"/></a>"
      ]
    },
    {
      "cell_type": "markdown",
      "source": [
        "**1. Classificação de dados**"
      ],
      "metadata": {
        "id": "TO2gzv-d72aL"
      }
    },
    {
      "cell_type": "code",
      "execution_count": null,
      "metadata": {
        "id": "qdHKGh-YdJQU"
      },
      "outputs": [],
      "source": [
        "import pandas as pd "
      ]
    },
    {
      "cell_type": "code",
      "source": [
        "dados = pd.read_csv('/content/Customer-Churn.csv') \n"
      ],
      "metadata": {
        "id": "v2fzkicBe2l3"
      },
      "execution_count": null,
      "outputs": []
    },
    {
      "cell_type": "code",
      "source": [
        "dados.shape \n",
        "#primeiro valor representa a quantidade de linhas, e o segundo valor representa a quantidade de colunas\n"
      ],
      "metadata": {
        "colab": {
          "base_uri": "https://localhost:8080/"
        },
        "id": "yzJRSa1vf0cV",
        "outputId": "bded7605-b567-45a9-8848-415ecf1017f2"
      },
      "execution_count": null,
      "outputs": [
        {
          "output_type": "execute_result",
          "data": {
            "text/plain": [
              "(7043, 18)"
            ]
          },
          "metadata": {},
          "execution_count": 3
        }
      ]
    },
    {
      "cell_type": "code",
      "source": [
        "dados.head()\n",
        "# 1= sim, 0= nao"
      ],
      "metadata": {
        "colab": {
          "base_uri": "https://localhost:8080/",
          "height": 270
        },
        "id": "0yLDwF8Uf0hd",
        "outputId": "689b4fbf-ed33-42e1-976c-babcaadee284"
      },
      "execution_count": null,
      "outputs": [
        {
          "output_type": "execute_result",
          "data": {
            "text/plain": [
              "   Maior65Anos Conjuge Dependentes  MesesDeContrato TelefoneFixo  \\\n",
              "0            0     Sim         Nao                1          Nao   \n",
              "1            0     Nao         Nao               34          Sim   \n",
              "2            0     Nao         Nao                2          Sim   \n",
              "3            0     Nao         Nao               45          Nao   \n",
              "4            0     Nao         Nao                2          Sim   \n",
              "\n",
              "  VariasLinhasTelefonicas ServicoDeInternet SegurancaOnline BackupOnline  \\\n",
              "0    SemServicoTelefonico               DSL             Nao          Sim   \n",
              "1                     Nao               DSL             Sim          Nao   \n",
              "2                     Nao               DSL             Sim          Sim   \n",
              "3    SemServicoTelefonico               DSL             Sim          Nao   \n",
              "4                     Nao       FibraOptica             Nao          Nao   \n",
              "\n",
              "  SeguroNoDispositivo SuporteTecnico TVaCabo StreamingDeFilmes TipoDeContrato  \\\n",
              "0                 Nao            Nao     Nao               Nao    Mensalmente   \n",
              "1                 Sim            Nao     Nao               Nao          UmAno   \n",
              "2                 Nao            Nao     Nao               Nao    Mensalmente   \n",
              "3                 Sim            Sim     Nao               Nao          UmAno   \n",
              "4                 Nao            Nao     Nao               Nao    Mensalmente   \n",
              "\n",
              "  PagamentoOnline FormaDePagamento  ContaMensal Churn  \n",
              "0             Sim    ChequeDigital        29.85   Nao  \n",
              "1             Nao      ChequePapel        56.95   Nao  \n",
              "2             Sim      ChequePapel        53.85   Sim  \n",
              "3             Nao    DebitoEmConta        42.30   Nao  \n",
              "4             Sim    ChequeDigital        70.70   Sim  "
            ],
            "text/html": [
              "\n",
              "  <div id=\"df-fb231def-0765-4ffd-9a41-174c7effa207\">\n",
              "    <div class=\"colab-df-container\">\n",
              "      <div>\n",
              "<style scoped>\n",
              "    .dataframe tbody tr th:only-of-type {\n",
              "        vertical-align: middle;\n",
              "    }\n",
              "\n",
              "    .dataframe tbody tr th {\n",
              "        vertical-align: top;\n",
              "    }\n",
              "\n",
              "    .dataframe thead th {\n",
              "        text-align: right;\n",
              "    }\n",
              "</style>\n",
              "<table border=\"1\" class=\"dataframe\">\n",
              "  <thead>\n",
              "    <tr style=\"text-align: right;\">\n",
              "      <th></th>\n",
              "      <th>Maior65Anos</th>\n",
              "      <th>Conjuge</th>\n",
              "      <th>Dependentes</th>\n",
              "      <th>MesesDeContrato</th>\n",
              "      <th>TelefoneFixo</th>\n",
              "      <th>VariasLinhasTelefonicas</th>\n",
              "      <th>ServicoDeInternet</th>\n",
              "      <th>SegurancaOnline</th>\n",
              "      <th>BackupOnline</th>\n",
              "      <th>SeguroNoDispositivo</th>\n",
              "      <th>SuporteTecnico</th>\n",
              "      <th>TVaCabo</th>\n",
              "      <th>StreamingDeFilmes</th>\n",
              "      <th>TipoDeContrato</th>\n",
              "      <th>PagamentoOnline</th>\n",
              "      <th>FormaDePagamento</th>\n",
              "      <th>ContaMensal</th>\n",
              "      <th>Churn</th>\n",
              "    </tr>\n",
              "  </thead>\n",
              "  <tbody>\n",
              "    <tr>\n",
              "      <th>0</th>\n",
              "      <td>0</td>\n",
              "      <td>Sim</td>\n",
              "      <td>Nao</td>\n",
              "      <td>1</td>\n",
              "      <td>Nao</td>\n",
              "      <td>SemServicoTelefonico</td>\n",
              "      <td>DSL</td>\n",
              "      <td>Nao</td>\n",
              "      <td>Sim</td>\n",
              "      <td>Nao</td>\n",
              "      <td>Nao</td>\n",
              "      <td>Nao</td>\n",
              "      <td>Nao</td>\n",
              "      <td>Mensalmente</td>\n",
              "      <td>Sim</td>\n",
              "      <td>ChequeDigital</td>\n",
              "      <td>29.85</td>\n",
              "      <td>Nao</td>\n",
              "    </tr>\n",
              "    <tr>\n",
              "      <th>1</th>\n",
              "      <td>0</td>\n",
              "      <td>Nao</td>\n",
              "      <td>Nao</td>\n",
              "      <td>34</td>\n",
              "      <td>Sim</td>\n",
              "      <td>Nao</td>\n",
              "      <td>DSL</td>\n",
              "      <td>Sim</td>\n",
              "      <td>Nao</td>\n",
              "      <td>Sim</td>\n",
              "      <td>Nao</td>\n",
              "      <td>Nao</td>\n",
              "      <td>Nao</td>\n",
              "      <td>UmAno</td>\n",
              "      <td>Nao</td>\n",
              "      <td>ChequePapel</td>\n",
              "      <td>56.95</td>\n",
              "      <td>Nao</td>\n",
              "    </tr>\n",
              "    <tr>\n",
              "      <th>2</th>\n",
              "      <td>0</td>\n",
              "      <td>Nao</td>\n",
              "      <td>Nao</td>\n",
              "      <td>2</td>\n",
              "      <td>Sim</td>\n",
              "      <td>Nao</td>\n",
              "      <td>DSL</td>\n",
              "      <td>Sim</td>\n",
              "      <td>Sim</td>\n",
              "      <td>Nao</td>\n",
              "      <td>Nao</td>\n",
              "      <td>Nao</td>\n",
              "      <td>Nao</td>\n",
              "      <td>Mensalmente</td>\n",
              "      <td>Sim</td>\n",
              "      <td>ChequePapel</td>\n",
              "      <td>53.85</td>\n",
              "      <td>Sim</td>\n",
              "    </tr>\n",
              "    <tr>\n",
              "      <th>3</th>\n",
              "      <td>0</td>\n",
              "      <td>Nao</td>\n",
              "      <td>Nao</td>\n",
              "      <td>45</td>\n",
              "      <td>Nao</td>\n",
              "      <td>SemServicoTelefonico</td>\n",
              "      <td>DSL</td>\n",
              "      <td>Sim</td>\n",
              "      <td>Nao</td>\n",
              "      <td>Sim</td>\n",
              "      <td>Sim</td>\n",
              "      <td>Nao</td>\n",
              "      <td>Nao</td>\n",
              "      <td>UmAno</td>\n",
              "      <td>Nao</td>\n",
              "      <td>DebitoEmConta</td>\n",
              "      <td>42.30</td>\n",
              "      <td>Nao</td>\n",
              "    </tr>\n",
              "    <tr>\n",
              "      <th>4</th>\n",
              "      <td>0</td>\n",
              "      <td>Nao</td>\n",
              "      <td>Nao</td>\n",
              "      <td>2</td>\n",
              "      <td>Sim</td>\n",
              "      <td>Nao</td>\n",
              "      <td>FibraOptica</td>\n",
              "      <td>Nao</td>\n",
              "      <td>Nao</td>\n",
              "      <td>Nao</td>\n",
              "      <td>Nao</td>\n",
              "      <td>Nao</td>\n",
              "      <td>Nao</td>\n",
              "      <td>Mensalmente</td>\n",
              "      <td>Sim</td>\n",
              "      <td>ChequeDigital</td>\n",
              "      <td>70.70</td>\n",
              "      <td>Sim</td>\n",
              "    </tr>\n",
              "  </tbody>\n",
              "</table>\n",
              "</div>\n",
              "      <button class=\"colab-df-convert\" onclick=\"convertToInteractive('df-fb231def-0765-4ffd-9a41-174c7effa207')\"\n",
              "              title=\"Convert this dataframe to an interactive table.\"\n",
              "              style=\"display:none;\">\n",
              "        \n",
              "  <svg xmlns=\"http://www.w3.org/2000/svg\" height=\"24px\"viewBox=\"0 0 24 24\"\n",
              "       width=\"24px\">\n",
              "    <path d=\"M0 0h24v24H0V0z\" fill=\"none\"/>\n",
              "    <path d=\"M18.56 5.44l.94 2.06.94-2.06 2.06-.94-2.06-.94-.94-2.06-.94 2.06-2.06.94zm-11 1L8.5 8.5l.94-2.06 2.06-.94-2.06-.94L8.5 2.5l-.94 2.06-2.06.94zm10 10l.94 2.06.94-2.06 2.06-.94-2.06-.94-.94-2.06-.94 2.06-2.06.94z\"/><path d=\"M17.41 7.96l-1.37-1.37c-.4-.4-.92-.59-1.43-.59-.52 0-1.04.2-1.43.59L10.3 9.45l-7.72 7.72c-.78.78-.78 2.05 0 2.83L4 21.41c.39.39.9.59 1.41.59.51 0 1.02-.2 1.41-.59l7.78-7.78 2.81-2.81c.8-.78.8-2.07 0-2.86zM5.41 20L4 18.59l7.72-7.72 1.47 1.35L5.41 20z\"/>\n",
              "  </svg>\n",
              "      </button>\n",
              "      \n",
              "  <style>\n",
              "    .colab-df-container {\n",
              "      display:flex;\n",
              "      flex-wrap:wrap;\n",
              "      gap: 12px;\n",
              "    }\n",
              "\n",
              "    .colab-df-convert {\n",
              "      background-color: #E8F0FE;\n",
              "      border: none;\n",
              "      border-radius: 50%;\n",
              "      cursor: pointer;\n",
              "      display: none;\n",
              "      fill: #1967D2;\n",
              "      height: 32px;\n",
              "      padding: 0 0 0 0;\n",
              "      width: 32px;\n",
              "    }\n",
              "\n",
              "    .colab-df-convert:hover {\n",
              "      background-color: #E2EBFA;\n",
              "      box-shadow: 0px 1px 2px rgba(60, 64, 67, 0.3), 0px 1px 3px 1px rgba(60, 64, 67, 0.15);\n",
              "      fill: #174EA6;\n",
              "    }\n",
              "\n",
              "    [theme=dark] .colab-df-convert {\n",
              "      background-color: #3B4455;\n",
              "      fill: #D2E3FC;\n",
              "    }\n",
              "\n",
              "    [theme=dark] .colab-df-convert:hover {\n",
              "      background-color: #434B5C;\n",
              "      box-shadow: 0px 1px 3px 1px rgba(0, 0, 0, 0.15);\n",
              "      filter: drop-shadow(0px 1px 2px rgba(0, 0, 0, 0.3));\n",
              "      fill: #FFFFFF;\n",
              "    }\n",
              "  </style>\n",
              "\n",
              "      <script>\n",
              "        const buttonEl =\n",
              "          document.querySelector('#df-fb231def-0765-4ffd-9a41-174c7effa207 button.colab-df-convert');\n",
              "        buttonEl.style.display =\n",
              "          google.colab.kernel.accessAllowed ? 'block' : 'none';\n",
              "\n",
              "        async function convertToInteractive(key) {\n",
              "          const element = document.querySelector('#df-fb231def-0765-4ffd-9a41-174c7effa207');\n",
              "          const dataTable =\n",
              "            await google.colab.kernel.invokeFunction('convertToInteractive',\n",
              "                                                     [key], {});\n",
              "          if (!dataTable) return;\n",
              "\n",
              "          const docLinkHtml = 'Like what you see? Visit the ' +\n",
              "            '<a target=\"_blank\" href=https://colab.research.google.com/notebooks/data_table.ipynb>data table notebook</a>'\n",
              "            + ' to learn more about interactive tables.';\n",
              "          element.innerHTML = '';\n",
              "          dataTable['output_type'] = 'display_data';\n",
              "          await google.colab.output.renderOutput(dataTable, element);\n",
              "          const docLink = document.createElement('div');\n",
              "          docLink.innerHTML = docLinkHtml;\n",
              "          element.appendChild(docLink);\n",
              "        }\n",
              "      </script>\n",
              "    </div>\n",
              "  </div>\n",
              "  "
            ]
          },
          "metadata": {},
          "execution_count": 4
        }
      ]
    },
    {
      "cell_type": "markdown",
      "source": [
        "Modelagem com variáveis categóricas e numéricas\n"
      ],
      "metadata": {
        "id": "GswR52nWjdRF"
      }
    },
    {
      "cell_type": "code",
      "source": [
        "#modelagem de maneira manual\n",
        "\n",
        "traducao_dic = { \"Sim\" : 1,\n",
        "                 \"Nao\" : 0}\n",
        "\n",
        "dadosmodificados = dados[['Conjuge', 'Dependentes', 'TelefoneFixo', 'PagamentoOnline', 'Churn']].replace(traducao_dic)\n",
        "dadosmodificados.head()"
      ],
      "metadata": {
        "colab": {
          "base_uri": "https://localhost:8080/",
          "height": 206
        },
        "id": "mwB2GzUMjoJ3",
        "outputId": "971a2cbd-66fb-4dc9-d804-fccaad5b0f8b"
      },
      "execution_count": null,
      "outputs": [
        {
          "output_type": "execute_result",
          "data": {
            "text/plain": [
              "   Conjuge  Dependentes  TelefoneFixo  PagamentoOnline  Churn\n",
              "0        1            0             0                1      0\n",
              "1        0            0             1                0      0\n",
              "2        0            0             1                1      1\n",
              "3        0            0             0                0      0\n",
              "4        0            0             1                1      1"
            ],
            "text/html": [
              "\n",
              "  <div id=\"df-c7fd3140-42b1-4c64-b112-c185dd3dde7b\">\n",
              "    <div class=\"colab-df-container\">\n",
              "      <div>\n",
              "<style scoped>\n",
              "    .dataframe tbody tr th:only-of-type {\n",
              "        vertical-align: middle;\n",
              "    }\n",
              "\n",
              "    .dataframe tbody tr th {\n",
              "        vertical-align: top;\n",
              "    }\n",
              "\n",
              "    .dataframe thead th {\n",
              "        text-align: right;\n",
              "    }\n",
              "</style>\n",
              "<table border=\"1\" class=\"dataframe\">\n",
              "  <thead>\n",
              "    <tr style=\"text-align: right;\">\n",
              "      <th></th>\n",
              "      <th>Conjuge</th>\n",
              "      <th>Dependentes</th>\n",
              "      <th>TelefoneFixo</th>\n",
              "      <th>PagamentoOnline</th>\n",
              "      <th>Churn</th>\n",
              "    </tr>\n",
              "  </thead>\n",
              "  <tbody>\n",
              "    <tr>\n",
              "      <th>0</th>\n",
              "      <td>1</td>\n",
              "      <td>0</td>\n",
              "      <td>0</td>\n",
              "      <td>1</td>\n",
              "      <td>0</td>\n",
              "    </tr>\n",
              "    <tr>\n",
              "      <th>1</th>\n",
              "      <td>0</td>\n",
              "      <td>0</td>\n",
              "      <td>1</td>\n",
              "      <td>0</td>\n",
              "      <td>0</td>\n",
              "    </tr>\n",
              "    <tr>\n",
              "      <th>2</th>\n",
              "      <td>0</td>\n",
              "      <td>0</td>\n",
              "      <td>1</td>\n",
              "      <td>1</td>\n",
              "      <td>1</td>\n",
              "    </tr>\n",
              "    <tr>\n",
              "      <th>3</th>\n",
              "      <td>0</td>\n",
              "      <td>0</td>\n",
              "      <td>0</td>\n",
              "      <td>0</td>\n",
              "      <td>0</td>\n",
              "    </tr>\n",
              "    <tr>\n",
              "      <th>4</th>\n",
              "      <td>0</td>\n",
              "      <td>0</td>\n",
              "      <td>1</td>\n",
              "      <td>1</td>\n",
              "      <td>1</td>\n",
              "    </tr>\n",
              "  </tbody>\n",
              "</table>\n",
              "</div>\n",
              "      <button class=\"colab-df-convert\" onclick=\"convertToInteractive('df-c7fd3140-42b1-4c64-b112-c185dd3dde7b')\"\n",
              "              title=\"Convert this dataframe to an interactive table.\"\n",
              "              style=\"display:none;\">\n",
              "        \n",
              "  <svg xmlns=\"http://www.w3.org/2000/svg\" height=\"24px\"viewBox=\"0 0 24 24\"\n",
              "       width=\"24px\">\n",
              "    <path d=\"M0 0h24v24H0V0z\" fill=\"none\"/>\n",
              "    <path d=\"M18.56 5.44l.94 2.06.94-2.06 2.06-.94-2.06-.94-.94-2.06-.94 2.06-2.06.94zm-11 1L8.5 8.5l.94-2.06 2.06-.94-2.06-.94L8.5 2.5l-.94 2.06-2.06.94zm10 10l.94 2.06.94-2.06 2.06-.94-2.06-.94-.94-2.06-.94 2.06-2.06.94z\"/><path d=\"M17.41 7.96l-1.37-1.37c-.4-.4-.92-.59-1.43-.59-.52 0-1.04.2-1.43.59L10.3 9.45l-7.72 7.72c-.78.78-.78 2.05 0 2.83L4 21.41c.39.39.9.59 1.41.59.51 0 1.02-.2 1.41-.59l7.78-7.78 2.81-2.81c.8-.78.8-2.07 0-2.86zM5.41 20L4 18.59l7.72-7.72 1.47 1.35L5.41 20z\"/>\n",
              "  </svg>\n",
              "      </button>\n",
              "      \n",
              "  <style>\n",
              "    .colab-df-container {\n",
              "      display:flex;\n",
              "      flex-wrap:wrap;\n",
              "      gap: 12px;\n",
              "    }\n",
              "\n",
              "    .colab-df-convert {\n",
              "      background-color: #E8F0FE;\n",
              "      border: none;\n",
              "      border-radius: 50%;\n",
              "      cursor: pointer;\n",
              "      display: none;\n",
              "      fill: #1967D2;\n",
              "      height: 32px;\n",
              "      padding: 0 0 0 0;\n",
              "      width: 32px;\n",
              "    }\n",
              "\n",
              "    .colab-df-convert:hover {\n",
              "      background-color: #E2EBFA;\n",
              "      box-shadow: 0px 1px 2px rgba(60, 64, 67, 0.3), 0px 1px 3px 1px rgba(60, 64, 67, 0.15);\n",
              "      fill: #174EA6;\n",
              "    }\n",
              "\n",
              "    [theme=dark] .colab-df-convert {\n",
              "      background-color: #3B4455;\n",
              "      fill: #D2E3FC;\n",
              "    }\n",
              "\n",
              "    [theme=dark] .colab-df-convert:hover {\n",
              "      background-color: #434B5C;\n",
              "      box-shadow: 0px 1px 3px 1px rgba(0, 0, 0, 0.15);\n",
              "      filter: drop-shadow(0px 1px 2px rgba(0, 0, 0, 0.3));\n",
              "      fill: #FFFFFF;\n",
              "    }\n",
              "  </style>\n",
              "\n",
              "      <script>\n",
              "        const buttonEl =\n",
              "          document.querySelector('#df-c7fd3140-42b1-4c64-b112-c185dd3dde7b button.colab-df-convert');\n",
              "        buttonEl.style.display =\n",
              "          google.colab.kernel.accessAllowed ? 'block' : 'none';\n",
              "\n",
              "        async function convertToInteractive(key) {\n",
              "          const element = document.querySelector('#df-c7fd3140-42b1-4c64-b112-c185dd3dde7b');\n",
              "          const dataTable =\n",
              "            await google.colab.kernel.invokeFunction('convertToInteractive',\n",
              "                                                     [key], {});\n",
              "          if (!dataTable) return;\n",
              "\n",
              "          const docLinkHtml = 'Like what you see? Visit the ' +\n",
              "            '<a target=\"_blank\" href=https://colab.research.google.com/notebooks/data_table.ipynb>data table notebook</a>'\n",
              "            + ' to learn more about interactive tables.';\n",
              "          element.innerHTML = '';\n",
              "          dataTable['output_type'] = 'display_data';\n",
              "          await google.colab.output.renderOutput(dataTable, element);\n",
              "          const docLink = document.createElement('div');\n",
              "          docLink.innerHTML = docLinkHtml;\n",
              "          element.appendChild(docLink);\n",
              "        }\n",
              "      </script>\n",
              "    </div>\n",
              "  </div>\n",
              "  "
            ]
          },
          "metadata": {},
          "execution_count": 5
        }
      ]
    },
    {
      "cell_type": "code",
      "source": [
        "#modelagem automatizada com get_dummies\n",
        "# axis = colunas\n",
        "dummie_dados = pd.get_dummies(dados.drop(['Conjuge', 'Dependentes', 'TelefoneFixo', 'PagamentoOnline', 'Churn'], axis=1))\n",
        "\n",
        "\n",
        "#juntando os dados com a funcao concat\n",
        "dados_final = pd.concat([dadosmodificados, dummie_dados], axis=1)\n",
        "dados_final.head()\n"
      ],
      "metadata": {
        "colab": {
          "base_uri": "https://localhost:8080/",
          "height": 299
        },
        "id": "hGrzQqPykdQe",
        "outputId": "fac22ca7-723a-4b5e-dbc9-809584d7ce72"
      },
      "execution_count": null,
      "outputs": [
        {
          "output_type": "execute_result",
          "data": {
            "text/plain": [
              "   Conjuge  Dependentes  TelefoneFixo  PagamentoOnline  Churn  Maior65Anos  \\\n",
              "0        1            0             0                1      0            0   \n",
              "1        0            0             1                0      0            0   \n",
              "2        0            0             1                1      1            0   \n",
              "3        0            0             0                0      0            0   \n",
              "4        0            0             1                1      1            0   \n",
              "\n",
              "   MesesDeContrato  ContaMensal  VariasLinhasTelefonicas_Nao  \\\n",
              "0                1        29.85                            0   \n",
              "1               34        56.95                            1   \n",
              "2                2        53.85                            1   \n",
              "3               45        42.30                            0   \n",
              "4                2        70.70                            1   \n",
              "\n",
              "   VariasLinhasTelefonicas_SemServicoTelefonico  ...  StreamingDeFilmes_Nao  \\\n",
              "0                                             1  ...                      1   \n",
              "1                                             0  ...                      1   \n",
              "2                                             0  ...                      1   \n",
              "3                                             1  ...                      1   \n",
              "4                                             0  ...                      1   \n",
              "\n",
              "   StreamingDeFilmes_SemServicoDeInternet  StreamingDeFilmes_Sim  \\\n",
              "0                                       0                      0   \n",
              "1                                       0                      0   \n",
              "2                                       0                      0   \n",
              "3                                       0                      0   \n",
              "4                                       0                      0   \n",
              "\n",
              "   TipoDeContrato_DoisAnos  TipoDeContrato_Mensalmente  TipoDeContrato_UmAno  \\\n",
              "0                        0                           1                     0   \n",
              "1                        0                           0                     1   \n",
              "2                        0                           1                     0   \n",
              "3                        0                           0                     1   \n",
              "4                        0                           1                     0   \n",
              "\n",
              "   FormaDePagamento_CartaoDeCredito  FormaDePagamento_ChequeDigital  \\\n",
              "0                                 0                               1   \n",
              "1                                 0                               0   \n",
              "2                                 0                               0   \n",
              "3                                 0                               0   \n",
              "4                                 0                               1   \n",
              "\n",
              "   FormaDePagamento_ChequePapel  FormaDePagamento_DebitoEmConta  \n",
              "0                             0                               0  \n",
              "1                             1                               0  \n",
              "2                             1                               0  \n",
              "3                             0                               1  \n",
              "4                             0                               0  \n",
              "\n",
              "[5 rows x 39 columns]"
            ],
            "text/html": [
              "\n",
              "  <div id=\"df-29967e0a-c499-46b4-a500-269e54eec6d0\">\n",
              "    <div class=\"colab-df-container\">\n",
              "      <div>\n",
              "<style scoped>\n",
              "    .dataframe tbody tr th:only-of-type {\n",
              "        vertical-align: middle;\n",
              "    }\n",
              "\n",
              "    .dataframe tbody tr th {\n",
              "        vertical-align: top;\n",
              "    }\n",
              "\n",
              "    .dataframe thead th {\n",
              "        text-align: right;\n",
              "    }\n",
              "</style>\n",
              "<table border=\"1\" class=\"dataframe\">\n",
              "  <thead>\n",
              "    <tr style=\"text-align: right;\">\n",
              "      <th></th>\n",
              "      <th>Conjuge</th>\n",
              "      <th>Dependentes</th>\n",
              "      <th>TelefoneFixo</th>\n",
              "      <th>PagamentoOnline</th>\n",
              "      <th>Churn</th>\n",
              "      <th>Maior65Anos</th>\n",
              "      <th>MesesDeContrato</th>\n",
              "      <th>ContaMensal</th>\n",
              "      <th>VariasLinhasTelefonicas_Nao</th>\n",
              "      <th>VariasLinhasTelefonicas_SemServicoTelefonico</th>\n",
              "      <th>...</th>\n",
              "      <th>StreamingDeFilmes_Nao</th>\n",
              "      <th>StreamingDeFilmes_SemServicoDeInternet</th>\n",
              "      <th>StreamingDeFilmes_Sim</th>\n",
              "      <th>TipoDeContrato_DoisAnos</th>\n",
              "      <th>TipoDeContrato_Mensalmente</th>\n",
              "      <th>TipoDeContrato_UmAno</th>\n",
              "      <th>FormaDePagamento_CartaoDeCredito</th>\n",
              "      <th>FormaDePagamento_ChequeDigital</th>\n",
              "      <th>FormaDePagamento_ChequePapel</th>\n",
              "      <th>FormaDePagamento_DebitoEmConta</th>\n",
              "    </tr>\n",
              "  </thead>\n",
              "  <tbody>\n",
              "    <tr>\n",
              "      <th>0</th>\n",
              "      <td>1</td>\n",
              "      <td>0</td>\n",
              "      <td>0</td>\n",
              "      <td>1</td>\n",
              "      <td>0</td>\n",
              "      <td>0</td>\n",
              "      <td>1</td>\n",
              "      <td>29.85</td>\n",
              "      <td>0</td>\n",
              "      <td>1</td>\n",
              "      <td>...</td>\n",
              "      <td>1</td>\n",
              "      <td>0</td>\n",
              "      <td>0</td>\n",
              "      <td>0</td>\n",
              "      <td>1</td>\n",
              "      <td>0</td>\n",
              "      <td>0</td>\n",
              "      <td>1</td>\n",
              "      <td>0</td>\n",
              "      <td>0</td>\n",
              "    </tr>\n",
              "    <tr>\n",
              "      <th>1</th>\n",
              "      <td>0</td>\n",
              "      <td>0</td>\n",
              "      <td>1</td>\n",
              "      <td>0</td>\n",
              "      <td>0</td>\n",
              "      <td>0</td>\n",
              "      <td>34</td>\n",
              "      <td>56.95</td>\n",
              "      <td>1</td>\n",
              "      <td>0</td>\n",
              "      <td>...</td>\n",
              "      <td>1</td>\n",
              "      <td>0</td>\n",
              "      <td>0</td>\n",
              "      <td>0</td>\n",
              "      <td>0</td>\n",
              "      <td>1</td>\n",
              "      <td>0</td>\n",
              "      <td>0</td>\n",
              "      <td>1</td>\n",
              "      <td>0</td>\n",
              "    </tr>\n",
              "    <tr>\n",
              "      <th>2</th>\n",
              "      <td>0</td>\n",
              "      <td>0</td>\n",
              "      <td>1</td>\n",
              "      <td>1</td>\n",
              "      <td>1</td>\n",
              "      <td>0</td>\n",
              "      <td>2</td>\n",
              "      <td>53.85</td>\n",
              "      <td>1</td>\n",
              "      <td>0</td>\n",
              "      <td>...</td>\n",
              "      <td>1</td>\n",
              "      <td>0</td>\n",
              "      <td>0</td>\n",
              "      <td>0</td>\n",
              "      <td>1</td>\n",
              "      <td>0</td>\n",
              "      <td>0</td>\n",
              "      <td>0</td>\n",
              "      <td>1</td>\n",
              "      <td>0</td>\n",
              "    </tr>\n",
              "    <tr>\n",
              "      <th>3</th>\n",
              "      <td>0</td>\n",
              "      <td>0</td>\n",
              "      <td>0</td>\n",
              "      <td>0</td>\n",
              "      <td>0</td>\n",
              "      <td>0</td>\n",
              "      <td>45</td>\n",
              "      <td>42.30</td>\n",
              "      <td>0</td>\n",
              "      <td>1</td>\n",
              "      <td>...</td>\n",
              "      <td>1</td>\n",
              "      <td>0</td>\n",
              "      <td>0</td>\n",
              "      <td>0</td>\n",
              "      <td>0</td>\n",
              "      <td>1</td>\n",
              "      <td>0</td>\n",
              "      <td>0</td>\n",
              "      <td>0</td>\n",
              "      <td>1</td>\n",
              "    </tr>\n",
              "    <tr>\n",
              "      <th>4</th>\n",
              "      <td>0</td>\n",
              "      <td>0</td>\n",
              "      <td>1</td>\n",
              "      <td>1</td>\n",
              "      <td>1</td>\n",
              "      <td>0</td>\n",
              "      <td>2</td>\n",
              "      <td>70.70</td>\n",
              "      <td>1</td>\n",
              "      <td>0</td>\n",
              "      <td>...</td>\n",
              "      <td>1</td>\n",
              "      <td>0</td>\n",
              "      <td>0</td>\n",
              "      <td>0</td>\n",
              "      <td>1</td>\n",
              "      <td>0</td>\n",
              "      <td>0</td>\n",
              "      <td>1</td>\n",
              "      <td>0</td>\n",
              "      <td>0</td>\n",
              "    </tr>\n",
              "  </tbody>\n",
              "</table>\n",
              "<p>5 rows × 39 columns</p>\n",
              "</div>\n",
              "      <button class=\"colab-df-convert\" onclick=\"convertToInteractive('df-29967e0a-c499-46b4-a500-269e54eec6d0')\"\n",
              "              title=\"Convert this dataframe to an interactive table.\"\n",
              "              style=\"display:none;\">\n",
              "        \n",
              "  <svg xmlns=\"http://www.w3.org/2000/svg\" height=\"24px\"viewBox=\"0 0 24 24\"\n",
              "       width=\"24px\">\n",
              "    <path d=\"M0 0h24v24H0V0z\" fill=\"none\"/>\n",
              "    <path d=\"M18.56 5.44l.94 2.06.94-2.06 2.06-.94-2.06-.94-.94-2.06-.94 2.06-2.06.94zm-11 1L8.5 8.5l.94-2.06 2.06-.94-2.06-.94L8.5 2.5l-.94 2.06-2.06.94zm10 10l.94 2.06.94-2.06 2.06-.94-2.06-.94-.94-2.06-.94 2.06-2.06.94z\"/><path d=\"M17.41 7.96l-1.37-1.37c-.4-.4-.92-.59-1.43-.59-.52 0-1.04.2-1.43.59L10.3 9.45l-7.72 7.72c-.78.78-.78 2.05 0 2.83L4 21.41c.39.39.9.59 1.41.59.51 0 1.02-.2 1.41-.59l7.78-7.78 2.81-2.81c.8-.78.8-2.07 0-2.86zM5.41 20L4 18.59l7.72-7.72 1.47 1.35L5.41 20z\"/>\n",
              "  </svg>\n",
              "      </button>\n",
              "      \n",
              "  <style>\n",
              "    .colab-df-container {\n",
              "      display:flex;\n",
              "      flex-wrap:wrap;\n",
              "      gap: 12px;\n",
              "    }\n",
              "\n",
              "    .colab-df-convert {\n",
              "      background-color: #E8F0FE;\n",
              "      border: none;\n",
              "      border-radius: 50%;\n",
              "      cursor: pointer;\n",
              "      display: none;\n",
              "      fill: #1967D2;\n",
              "      height: 32px;\n",
              "      padding: 0 0 0 0;\n",
              "      width: 32px;\n",
              "    }\n",
              "\n",
              "    .colab-df-convert:hover {\n",
              "      background-color: #E2EBFA;\n",
              "      box-shadow: 0px 1px 2px rgba(60, 64, 67, 0.3), 0px 1px 3px 1px rgba(60, 64, 67, 0.15);\n",
              "      fill: #174EA6;\n",
              "    }\n",
              "\n",
              "    [theme=dark] .colab-df-convert {\n",
              "      background-color: #3B4455;\n",
              "      fill: #D2E3FC;\n",
              "    }\n",
              "\n",
              "    [theme=dark] .colab-df-convert:hover {\n",
              "      background-color: #434B5C;\n",
              "      box-shadow: 0px 1px 3px 1px rgba(0, 0, 0, 0.15);\n",
              "      filter: drop-shadow(0px 1px 2px rgba(0, 0, 0, 0.3));\n",
              "      fill: #FFFFFF;\n",
              "    }\n",
              "  </style>\n",
              "\n",
              "      <script>\n",
              "        const buttonEl =\n",
              "          document.querySelector('#df-29967e0a-c499-46b4-a500-269e54eec6d0 button.colab-df-convert');\n",
              "        buttonEl.style.display =\n",
              "          google.colab.kernel.accessAllowed ? 'block' : 'none';\n",
              "\n",
              "        async function convertToInteractive(key) {\n",
              "          const element = document.querySelector('#df-29967e0a-c499-46b4-a500-269e54eec6d0');\n",
              "          const dataTable =\n",
              "            await google.colab.kernel.invokeFunction('convertToInteractive',\n",
              "                                                     [key], {});\n",
              "          if (!dataTable) return;\n",
              "\n",
              "          const docLinkHtml = 'Like what you see? Visit the ' +\n",
              "            '<a target=\"_blank\" href=https://colab.research.google.com/notebooks/data_table.ipynb>data table notebook</a>'\n",
              "            + ' to learn more about interactive tables.';\n",
              "          element.innerHTML = '';\n",
              "          dataTable['output_type'] = 'display_data';\n",
              "          await google.colab.output.renderOutput(dataTable, element);\n",
              "          const docLink = document.createElement('div');\n",
              "          docLink.innerHTML = docLinkHtml;\n",
              "          element.appendChild(docLink);\n",
              "        }\n",
              "      </script>\n",
              "    </div>\n",
              "  </div>\n",
              "  "
            ]
          },
          "metadata": {},
          "execution_count": 6
        }
      ]
    },
    {
      "cell_type": "code",
      "source": [
        "dados_final.shape"
      ],
      "metadata": {
        "colab": {
          "base_uri": "https://localhost:8080/"
        },
        "id": "5NTGraLMl0By",
        "outputId": "b2a0a433-4a37-452c-e5e7-df4793d2cc39"
      },
      "execution_count": null,
      "outputs": [
        {
          "output_type": "execute_result",
          "data": {
            "text/plain": [
              "(7043, 39)"
            ]
          },
          "metadata": {},
          "execution_count": 7
        }
      ]
    },
    {
      "cell_type": "markdown",
      "source": [
        "Defiição formal \n",
        "\n",
        "X = dados de entrada (input)\n",
        "Y = dados de saída (output)"
      ],
      "metadata": {
        "id": "x1aSBAXrpu2L"
      }
    },
    {
      "cell_type": "code",
      "source": [
        "pd.set_option('display.max_columns', 39)"
      ],
      "metadata": {
        "id": "lwkPtZ9Dp7qh"
      },
      "execution_count": null,
      "outputs": []
    },
    {
      "cell_type": "code",
      "source": [
        "dados_final.head()"
      ],
      "metadata": {
        "colab": {
          "base_uri": "https://localhost:8080/",
          "height": 270
        },
        "id": "KfIvlPPAqa1T",
        "outputId": "a4a737dd-df59-4908-da31-72b267f316c4"
      },
      "execution_count": null,
      "outputs": [
        {
          "output_type": "execute_result",
          "data": {
            "text/plain": [
              "   Conjuge  Dependentes  TelefoneFixo  PagamentoOnline  Churn  Maior65Anos  \\\n",
              "0        1            0             0                1      0            0   \n",
              "1        0            0             1                0      0            0   \n",
              "2        0            0             1                1      1            0   \n",
              "3        0            0             0                0      0            0   \n",
              "4        0            0             1                1      1            0   \n",
              "\n",
              "   MesesDeContrato  ContaMensal  VariasLinhasTelefonicas_Nao  \\\n",
              "0                1        29.85                            0   \n",
              "1               34        56.95                            1   \n",
              "2                2        53.85                            1   \n",
              "3               45        42.30                            0   \n",
              "4                2        70.70                            1   \n",
              "\n",
              "   VariasLinhasTelefonicas_SemServicoTelefonico  VariasLinhasTelefonicas_Sim  \\\n",
              "0                                             1                            0   \n",
              "1                                             0                            0   \n",
              "2                                             0                            0   \n",
              "3                                             1                            0   \n",
              "4                                             0                            0   \n",
              "\n",
              "   ServicoDeInternet_DSL  ServicoDeInternet_FibraOptica  \\\n",
              "0                      1                              0   \n",
              "1                      1                              0   \n",
              "2                      1                              0   \n",
              "3                      1                              0   \n",
              "4                      0                              1   \n",
              "\n",
              "   ServicoDeInternet_Nao  SegurancaOnline_Nao  \\\n",
              "0                      0                    1   \n",
              "1                      0                    0   \n",
              "2                      0                    0   \n",
              "3                      0                    0   \n",
              "4                      0                    1   \n",
              "\n",
              "   SegurancaOnline_SemServicoDeInternet  SegurancaOnline_Sim  \\\n",
              "0                                     0                    0   \n",
              "1                                     0                    1   \n",
              "2                                     0                    1   \n",
              "3                                     0                    1   \n",
              "4                                     0                    0   \n",
              "\n",
              "   BackupOnline_Nao  BackupOnline_SemServicoDeInternet  BackupOnline_Sim  \\\n",
              "0                 0                                  0                 1   \n",
              "1                 1                                  0                 0   \n",
              "2                 0                                  0                 1   \n",
              "3                 1                                  0                 0   \n",
              "4                 1                                  0                 0   \n",
              "\n",
              "   SeguroNoDispositivo_Nao  SeguroNoDispositivo_SemServicoDeInternet  \\\n",
              "0                        1                                         0   \n",
              "1                        0                                         0   \n",
              "2                        1                                         0   \n",
              "3                        0                                         0   \n",
              "4                        1                                         0   \n",
              "\n",
              "   SeguroNoDispositivo_Sim  SuporteTecnico_Nao  \\\n",
              "0                        0                   1   \n",
              "1                        1                   1   \n",
              "2                        0                   1   \n",
              "3                        1                   0   \n",
              "4                        0                   1   \n",
              "\n",
              "   SuporteTecnico_SemServicoDeInternet  SuporteTecnico_Sim  TVaCabo_Nao  \\\n",
              "0                                    0                   0            1   \n",
              "1                                    0                   0            1   \n",
              "2                                    0                   0            1   \n",
              "3                                    0                   1            1   \n",
              "4                                    0                   0            1   \n",
              "\n",
              "   TVaCabo_SemServicoDeInternet  TVaCabo_Sim  StreamingDeFilmes_Nao  \\\n",
              "0                             0            0                      1   \n",
              "1                             0            0                      1   \n",
              "2                             0            0                      1   \n",
              "3                             0            0                      1   \n",
              "4                             0            0                      1   \n",
              "\n",
              "   StreamingDeFilmes_SemServicoDeInternet  StreamingDeFilmes_Sim  \\\n",
              "0                                       0                      0   \n",
              "1                                       0                      0   \n",
              "2                                       0                      0   \n",
              "3                                       0                      0   \n",
              "4                                       0                      0   \n",
              "\n",
              "   TipoDeContrato_DoisAnos  TipoDeContrato_Mensalmente  TipoDeContrato_UmAno  \\\n",
              "0                        0                           1                     0   \n",
              "1                        0                           0                     1   \n",
              "2                        0                           1                     0   \n",
              "3                        0                           0                     1   \n",
              "4                        0                           1                     0   \n",
              "\n",
              "   FormaDePagamento_CartaoDeCredito  FormaDePagamento_ChequeDigital  \\\n",
              "0                                 0                               1   \n",
              "1                                 0                               0   \n",
              "2                                 0                               0   \n",
              "3                                 0                               0   \n",
              "4                                 0                               1   \n",
              "\n",
              "   FormaDePagamento_ChequePapel  FormaDePagamento_DebitoEmConta  \n",
              "0                             0                               0  \n",
              "1                             1                               0  \n",
              "2                             1                               0  \n",
              "3                             0                               1  \n",
              "4                             0                               0  "
            ],
            "text/html": [
              "\n",
              "  <div id=\"df-e51f6eb1-a4d2-4917-a2dd-d90ccef66c08\">\n",
              "    <div class=\"colab-df-container\">\n",
              "      <div>\n",
              "<style scoped>\n",
              "    .dataframe tbody tr th:only-of-type {\n",
              "        vertical-align: middle;\n",
              "    }\n",
              "\n",
              "    .dataframe tbody tr th {\n",
              "        vertical-align: top;\n",
              "    }\n",
              "\n",
              "    .dataframe thead th {\n",
              "        text-align: right;\n",
              "    }\n",
              "</style>\n",
              "<table border=\"1\" class=\"dataframe\">\n",
              "  <thead>\n",
              "    <tr style=\"text-align: right;\">\n",
              "      <th></th>\n",
              "      <th>Conjuge</th>\n",
              "      <th>Dependentes</th>\n",
              "      <th>TelefoneFixo</th>\n",
              "      <th>PagamentoOnline</th>\n",
              "      <th>Churn</th>\n",
              "      <th>Maior65Anos</th>\n",
              "      <th>MesesDeContrato</th>\n",
              "      <th>ContaMensal</th>\n",
              "      <th>VariasLinhasTelefonicas_Nao</th>\n",
              "      <th>VariasLinhasTelefonicas_SemServicoTelefonico</th>\n",
              "      <th>VariasLinhasTelefonicas_Sim</th>\n",
              "      <th>ServicoDeInternet_DSL</th>\n",
              "      <th>ServicoDeInternet_FibraOptica</th>\n",
              "      <th>ServicoDeInternet_Nao</th>\n",
              "      <th>SegurancaOnline_Nao</th>\n",
              "      <th>SegurancaOnline_SemServicoDeInternet</th>\n",
              "      <th>SegurancaOnline_Sim</th>\n",
              "      <th>BackupOnline_Nao</th>\n",
              "      <th>BackupOnline_SemServicoDeInternet</th>\n",
              "      <th>BackupOnline_Sim</th>\n",
              "      <th>SeguroNoDispositivo_Nao</th>\n",
              "      <th>SeguroNoDispositivo_SemServicoDeInternet</th>\n",
              "      <th>SeguroNoDispositivo_Sim</th>\n",
              "      <th>SuporteTecnico_Nao</th>\n",
              "      <th>SuporteTecnico_SemServicoDeInternet</th>\n",
              "      <th>SuporteTecnico_Sim</th>\n",
              "      <th>TVaCabo_Nao</th>\n",
              "      <th>TVaCabo_SemServicoDeInternet</th>\n",
              "      <th>TVaCabo_Sim</th>\n",
              "      <th>StreamingDeFilmes_Nao</th>\n",
              "      <th>StreamingDeFilmes_SemServicoDeInternet</th>\n",
              "      <th>StreamingDeFilmes_Sim</th>\n",
              "      <th>TipoDeContrato_DoisAnos</th>\n",
              "      <th>TipoDeContrato_Mensalmente</th>\n",
              "      <th>TipoDeContrato_UmAno</th>\n",
              "      <th>FormaDePagamento_CartaoDeCredito</th>\n",
              "      <th>FormaDePagamento_ChequeDigital</th>\n",
              "      <th>FormaDePagamento_ChequePapel</th>\n",
              "      <th>FormaDePagamento_DebitoEmConta</th>\n",
              "    </tr>\n",
              "  </thead>\n",
              "  <tbody>\n",
              "    <tr>\n",
              "      <th>0</th>\n",
              "      <td>1</td>\n",
              "      <td>0</td>\n",
              "      <td>0</td>\n",
              "      <td>1</td>\n",
              "      <td>0</td>\n",
              "      <td>0</td>\n",
              "      <td>1</td>\n",
              "      <td>29.85</td>\n",
              "      <td>0</td>\n",
              "      <td>1</td>\n",
              "      <td>0</td>\n",
              "      <td>1</td>\n",
              "      <td>0</td>\n",
              "      <td>0</td>\n",
              "      <td>1</td>\n",
              "      <td>0</td>\n",
              "      <td>0</td>\n",
              "      <td>0</td>\n",
              "      <td>0</td>\n",
              "      <td>1</td>\n",
              "      <td>1</td>\n",
              "      <td>0</td>\n",
              "      <td>0</td>\n",
              "      <td>1</td>\n",
              "      <td>0</td>\n",
              "      <td>0</td>\n",
              "      <td>1</td>\n",
              "      <td>0</td>\n",
              "      <td>0</td>\n",
              "      <td>1</td>\n",
              "      <td>0</td>\n",
              "      <td>0</td>\n",
              "      <td>0</td>\n",
              "      <td>1</td>\n",
              "      <td>0</td>\n",
              "      <td>0</td>\n",
              "      <td>1</td>\n",
              "      <td>0</td>\n",
              "      <td>0</td>\n",
              "    </tr>\n",
              "    <tr>\n",
              "      <th>1</th>\n",
              "      <td>0</td>\n",
              "      <td>0</td>\n",
              "      <td>1</td>\n",
              "      <td>0</td>\n",
              "      <td>0</td>\n",
              "      <td>0</td>\n",
              "      <td>34</td>\n",
              "      <td>56.95</td>\n",
              "      <td>1</td>\n",
              "      <td>0</td>\n",
              "      <td>0</td>\n",
              "      <td>1</td>\n",
              "      <td>0</td>\n",
              "      <td>0</td>\n",
              "      <td>0</td>\n",
              "      <td>0</td>\n",
              "      <td>1</td>\n",
              "      <td>1</td>\n",
              "      <td>0</td>\n",
              "      <td>0</td>\n",
              "      <td>0</td>\n",
              "      <td>0</td>\n",
              "      <td>1</td>\n",
              "      <td>1</td>\n",
              "      <td>0</td>\n",
              "      <td>0</td>\n",
              "      <td>1</td>\n",
              "      <td>0</td>\n",
              "      <td>0</td>\n",
              "      <td>1</td>\n",
              "      <td>0</td>\n",
              "      <td>0</td>\n",
              "      <td>0</td>\n",
              "      <td>0</td>\n",
              "      <td>1</td>\n",
              "      <td>0</td>\n",
              "      <td>0</td>\n",
              "      <td>1</td>\n",
              "      <td>0</td>\n",
              "    </tr>\n",
              "    <tr>\n",
              "      <th>2</th>\n",
              "      <td>0</td>\n",
              "      <td>0</td>\n",
              "      <td>1</td>\n",
              "      <td>1</td>\n",
              "      <td>1</td>\n",
              "      <td>0</td>\n",
              "      <td>2</td>\n",
              "      <td>53.85</td>\n",
              "      <td>1</td>\n",
              "      <td>0</td>\n",
              "      <td>0</td>\n",
              "      <td>1</td>\n",
              "      <td>0</td>\n",
              "      <td>0</td>\n",
              "      <td>0</td>\n",
              "      <td>0</td>\n",
              "      <td>1</td>\n",
              "      <td>0</td>\n",
              "      <td>0</td>\n",
              "      <td>1</td>\n",
              "      <td>1</td>\n",
              "      <td>0</td>\n",
              "      <td>0</td>\n",
              "      <td>1</td>\n",
              "      <td>0</td>\n",
              "      <td>0</td>\n",
              "      <td>1</td>\n",
              "      <td>0</td>\n",
              "      <td>0</td>\n",
              "      <td>1</td>\n",
              "      <td>0</td>\n",
              "      <td>0</td>\n",
              "      <td>0</td>\n",
              "      <td>1</td>\n",
              "      <td>0</td>\n",
              "      <td>0</td>\n",
              "      <td>0</td>\n",
              "      <td>1</td>\n",
              "      <td>0</td>\n",
              "    </tr>\n",
              "    <tr>\n",
              "      <th>3</th>\n",
              "      <td>0</td>\n",
              "      <td>0</td>\n",
              "      <td>0</td>\n",
              "      <td>0</td>\n",
              "      <td>0</td>\n",
              "      <td>0</td>\n",
              "      <td>45</td>\n",
              "      <td>42.30</td>\n",
              "      <td>0</td>\n",
              "      <td>1</td>\n",
              "      <td>0</td>\n",
              "      <td>1</td>\n",
              "      <td>0</td>\n",
              "      <td>0</td>\n",
              "      <td>0</td>\n",
              "      <td>0</td>\n",
              "      <td>1</td>\n",
              "      <td>1</td>\n",
              "      <td>0</td>\n",
              "      <td>0</td>\n",
              "      <td>0</td>\n",
              "      <td>0</td>\n",
              "      <td>1</td>\n",
              "      <td>0</td>\n",
              "      <td>0</td>\n",
              "      <td>1</td>\n",
              "      <td>1</td>\n",
              "      <td>0</td>\n",
              "      <td>0</td>\n",
              "      <td>1</td>\n",
              "      <td>0</td>\n",
              "      <td>0</td>\n",
              "      <td>0</td>\n",
              "      <td>0</td>\n",
              "      <td>1</td>\n",
              "      <td>0</td>\n",
              "      <td>0</td>\n",
              "      <td>0</td>\n",
              "      <td>1</td>\n",
              "    </tr>\n",
              "    <tr>\n",
              "      <th>4</th>\n",
              "      <td>0</td>\n",
              "      <td>0</td>\n",
              "      <td>1</td>\n",
              "      <td>1</td>\n",
              "      <td>1</td>\n",
              "      <td>0</td>\n",
              "      <td>2</td>\n",
              "      <td>70.70</td>\n",
              "      <td>1</td>\n",
              "      <td>0</td>\n",
              "      <td>0</td>\n",
              "      <td>0</td>\n",
              "      <td>1</td>\n",
              "      <td>0</td>\n",
              "      <td>1</td>\n",
              "      <td>0</td>\n",
              "      <td>0</td>\n",
              "      <td>1</td>\n",
              "      <td>0</td>\n",
              "      <td>0</td>\n",
              "      <td>1</td>\n",
              "      <td>0</td>\n",
              "      <td>0</td>\n",
              "      <td>1</td>\n",
              "      <td>0</td>\n",
              "      <td>0</td>\n",
              "      <td>1</td>\n",
              "      <td>0</td>\n",
              "      <td>0</td>\n",
              "      <td>1</td>\n",
              "      <td>0</td>\n",
              "      <td>0</td>\n",
              "      <td>0</td>\n",
              "      <td>1</td>\n",
              "      <td>0</td>\n",
              "      <td>0</td>\n",
              "      <td>1</td>\n",
              "      <td>0</td>\n",
              "      <td>0</td>\n",
              "    </tr>\n",
              "  </tbody>\n",
              "</table>\n",
              "</div>\n",
              "      <button class=\"colab-df-convert\" onclick=\"convertToInteractive('df-e51f6eb1-a4d2-4917-a2dd-d90ccef66c08')\"\n",
              "              title=\"Convert this dataframe to an interactive table.\"\n",
              "              style=\"display:none;\">\n",
              "        \n",
              "  <svg xmlns=\"http://www.w3.org/2000/svg\" height=\"24px\"viewBox=\"0 0 24 24\"\n",
              "       width=\"24px\">\n",
              "    <path d=\"M0 0h24v24H0V0z\" fill=\"none\"/>\n",
              "    <path d=\"M18.56 5.44l.94 2.06.94-2.06 2.06-.94-2.06-.94-.94-2.06-.94 2.06-2.06.94zm-11 1L8.5 8.5l.94-2.06 2.06-.94-2.06-.94L8.5 2.5l-.94 2.06-2.06.94zm10 10l.94 2.06.94-2.06 2.06-.94-2.06-.94-.94-2.06-.94 2.06-2.06.94z\"/><path d=\"M17.41 7.96l-1.37-1.37c-.4-.4-.92-.59-1.43-.59-.52 0-1.04.2-1.43.59L10.3 9.45l-7.72 7.72c-.78.78-.78 2.05 0 2.83L4 21.41c.39.39.9.59 1.41.59.51 0 1.02-.2 1.41-.59l7.78-7.78 2.81-2.81c.8-.78.8-2.07 0-2.86zM5.41 20L4 18.59l7.72-7.72 1.47 1.35L5.41 20z\"/>\n",
              "  </svg>\n",
              "      </button>\n",
              "      \n",
              "  <style>\n",
              "    .colab-df-container {\n",
              "      display:flex;\n",
              "      flex-wrap:wrap;\n",
              "      gap: 12px;\n",
              "    }\n",
              "\n",
              "    .colab-df-convert {\n",
              "      background-color: #E8F0FE;\n",
              "      border: none;\n",
              "      border-radius: 50%;\n",
              "      cursor: pointer;\n",
              "      display: none;\n",
              "      fill: #1967D2;\n",
              "      height: 32px;\n",
              "      padding: 0 0 0 0;\n",
              "      width: 32px;\n",
              "    }\n",
              "\n",
              "    .colab-df-convert:hover {\n",
              "      background-color: #E2EBFA;\n",
              "      box-shadow: 0px 1px 2px rgba(60, 64, 67, 0.3), 0px 1px 3px 1px rgba(60, 64, 67, 0.15);\n",
              "      fill: #174EA6;\n",
              "    }\n",
              "\n",
              "    [theme=dark] .colab-df-convert {\n",
              "      background-color: #3B4455;\n",
              "      fill: #D2E3FC;\n",
              "    }\n",
              "\n",
              "    [theme=dark] .colab-df-convert:hover {\n",
              "      background-color: #434B5C;\n",
              "      box-shadow: 0px 1px 3px 1px rgba(0, 0, 0, 0.15);\n",
              "      filter: drop-shadow(0px 1px 2px rgba(0, 0, 0, 0.3));\n",
              "      fill: #FFFFFF;\n",
              "    }\n",
              "  </style>\n",
              "\n",
              "      <script>\n",
              "        const buttonEl =\n",
              "          document.querySelector('#df-e51f6eb1-a4d2-4917-a2dd-d90ccef66c08 button.colab-df-convert');\n",
              "        buttonEl.style.display =\n",
              "          google.colab.kernel.accessAllowed ? 'block' : 'none';\n",
              "\n",
              "        async function convertToInteractive(key) {\n",
              "          const element = document.querySelector('#df-e51f6eb1-a4d2-4917-a2dd-d90ccef66c08');\n",
              "          const dataTable =\n",
              "            await google.colab.kernel.invokeFunction('convertToInteractive',\n",
              "                                                     [key], {});\n",
              "          if (!dataTable) return;\n",
              "\n",
              "          const docLinkHtml = 'Like what you see? Visit the ' +\n",
              "            '<a target=\"_blank\" href=https://colab.research.google.com/notebooks/data_table.ipynb>data table notebook</a>'\n",
              "            + ' to learn more about interactive tables.';\n",
              "          element.innerHTML = '';\n",
              "          dataTable['output_type'] = 'display_data';\n",
              "          await google.colab.output.renderOutput(dataTable, element);\n",
              "          const docLink = document.createElement('div');\n",
              "          docLink.innerHTML = docLinkHtml;\n",
              "          element.appendChild(docLink);\n",
              "        }\n",
              "      </script>\n",
              "    </div>\n",
              "  </div>\n",
              "  "
            ]
          },
          "metadata": {},
          "execution_count": 9
        }
      ]
    },
    {
      "cell_type": "markdown",
      "source": [
        "Y1 = Churn \n",
        "\n",
        "Y1 = F(X1) "
      ],
      "metadata": {
        "id": "dZoYliKJqww6"
      }
    },
    {
      "cell_type": "markdown",
      "source": [
        "**Verificação para averiguar se a base de dados está desbalanceada**"
      ],
      "metadata": {
        "id": "Q13-QpEkwH8m"
      }
    },
    {
      "cell_type": "code",
      "source": [
        "import seaborn as sns\n",
        "%matplotlib inline\n",
        "\n",
        "ax = sns.countplot(x='Churn', data=dados_final)"
      ],
      "metadata": {
        "colab": {
          "base_uri": "https://localhost:8080/",
          "height": 449
        },
        "id": "S7gQtrcUrKcw",
        "outputId": "c66b177c-a12f-4d1c-e35a-171294b28d6a"
      },
      "execution_count": null,
      "outputs": [
        {
          "output_type": "display_data",
          "data": {
            "text/plain": [
              "<Figure size 640x480 with 1 Axes>"
            ],
            "image/png": "[encoded data removed]"
          },
          "metadata": {}
        }
      ]
    },
    {
      "cell_type": "code",
      "source": [
        "# Para podermos aplicar o SMOTE, devemos separar  os dados em variáveis características e resposta  \n",
        "\n",
        "X = dados_final.drop('Churn', axis = 1)\n",
        "y = dados_final['Churn']"
      ],
      "metadata": {
        "id": "8OQrIgY5wTul"
      },
      "execution_count": null,
      "outputs": []
    },
    {
      "cell_type": "code",
      "source": [
        "from imblearn.over_sampling import SMOTE\n",
        "\n",
        "smt = SMOTE(random_state=123)  # Instancia um objeto da classe SMOTE\n",
        "X, y = smt.fit_resample(X, y)  # Realiza a reamostragem do conjunto de dados"
      ],
      "metadata": {
        "id": "qsVHLGd5waD_"
      },
      "execution_count": null,
      "outputs": []
    },
    {
      "cell_type": "code",
      "source": [
        "dados_final = pd.concat([X, y], axis=1)  # Concatena a variável target (y) com as features (X)\n",
        "\n",
        "# Verifica se o balanceamento e a concatenação estão corretos.\n",
        "dados_final.head(2)"
      ],
      "metadata": {
        "colab": {
          "base_uri": "https://localhost:8080/",
          "height": 176
        },
        "id": "OMW_ssO3waO6",
        "outputId": "0df00eb1-f1dc-4754-c396-a91ca1b62789"
      },
      "execution_count": null,
      "outputs": [
        {
          "output_type": "execute_result",
          "data": {
            "text/plain": [
              "   Conjuge  Dependentes  TelefoneFixo  PagamentoOnline  Maior65Anos  \\\n",
              "0        1            0             0                1            0   \n",
              "1        0            0             1                0            0   \n",
              "\n",
              "   MesesDeContrato  ContaMensal  VariasLinhasTelefonicas_Nao  \\\n",
              "0                1        29.85                            0   \n",
              "1               34        56.95                            1   \n",
              "\n",
              "   VariasLinhasTelefonicas_SemServicoTelefonico  VariasLinhasTelefonicas_Sim  \\\n",
              "0                                             1                            0   \n",
              "1                                             0                            0   \n",
              "\n",
              "   ServicoDeInternet_DSL  ServicoDeInternet_FibraOptica  \\\n",
              "0                      1                              0   \n",
              "1                      1                              0   \n",
              "\n",
              "   ServicoDeInternet_Nao  SegurancaOnline_Nao  \\\n",
              "0                      0                    1   \n",
              "1                      0                    0   \n",
              "\n",
              "   SegurancaOnline_SemServicoDeInternet  SegurancaOnline_Sim  \\\n",
              "0                                     0                    0   \n",
              "1                                     0                    1   \n",
              "\n",
              "   BackupOnline_Nao  BackupOnline_SemServicoDeInternet  BackupOnline_Sim  \\\n",
              "0                 0                                  0                 1   \n",
              "1                 1                                  0                 0   \n",
              "\n",
              "   SeguroNoDispositivo_Nao  SeguroNoDispositivo_SemServicoDeInternet  \\\n",
              "0                        1                                         0   \n",
              "1                        0                                         0   \n",
              "\n",
              "   SeguroNoDispositivo_Sim  SuporteTecnico_Nao  \\\n",
              "0                        0                   1   \n",
              "1                        1                   1   \n",
              "\n",
              "   SuporteTecnico_SemServicoDeInternet  SuporteTecnico_Sim  TVaCabo_Nao  \\\n",
              "0                                    0                   0            1   \n",
              "1                                    0                   0            1   \n",
              "\n",
              "   TVaCabo_SemServicoDeInternet  TVaCabo_Sim  StreamingDeFilmes_Nao  \\\n",
              "0                             0            0                      1   \n",
              "1                             0            0                      1   \n",
              "\n",
              "   StreamingDeFilmes_SemServicoDeInternet  StreamingDeFilmes_Sim  \\\n",
              "0                                       0                      0   \n",
              "1                                       0                      0   \n",
              "\n",
              "   TipoDeContrato_DoisAnos  TipoDeContrato_Mensalmente  TipoDeContrato_UmAno  \\\n",
              "0                        0                           1                     0   \n",
              "1                        0                           0                     1   \n",
              "\n",
              "   FormaDePagamento_CartaoDeCredito  FormaDePagamento_ChequeDigital  \\\n",
              "0                                 0                               1   \n",
              "1                                 0                               0   \n",
              "\n",
              "   FormaDePagamento_ChequePapel  FormaDePagamento_DebitoEmConta  Churn  \n",
              "0                             0                               0      0  \n",
              "1                             1                               0      0  "
            ],
            "text/html": [
              "\n",
              "  <div id=\"df-48499b99-b144-4d87-a32a-587b4d7878b9\">\n",
              "    <div class=\"colab-df-container\">\n",
              "      <div>\n",
              "<style scoped>\n",
              "    .dataframe tbody tr th:only-of-type {\n",
              "        vertical-align: middle;\n",
              "    }\n",
              "\n",
              "    .dataframe tbody tr th {\n",
              "        vertical-align: top;\n",
              "    }\n",
              "\n",
              "    .dataframe thead th {\n",
              "        text-align: right;\n",
              "    }\n",
              "</style>\n",
              "<table border=\"1\" class=\"dataframe\">\n",
              "  <thead>\n",
              "    <tr style=\"text-align: right;\">\n",
              "      <th></th>\n",
              "      <th>Conjuge</th>\n",
              "      <th>Dependentes</th>\n",
              "      <th>TelefoneFixo</th>\n",
              "      <th>PagamentoOnline</th>\n",
              "      <th>Maior65Anos</th>\n",
              "      <th>MesesDeContrato</th>\n",
              "      <th>ContaMensal</th>\n",
              "      <th>VariasLinhasTelefonicas_Nao</th>\n",
              "      <th>VariasLinhasTelefonicas_SemServicoTelefonico</th>\n",
              "      <th>VariasLinhasTelefonicas_Sim</th>\n",
              "      <th>ServicoDeInternet_DSL</th>\n",
              "      <th>ServicoDeInternet_FibraOptica</th>\n",
              "      <th>ServicoDeInternet_Nao</th>\n",
              "      <th>SegurancaOnline_Nao</th>\n",
              "      <th>SegurancaOnline_SemServicoDeInternet</th>\n",
              "      <th>SegurancaOnline_Sim</th>\n",
              "      <th>BackupOnline_Nao</th>\n",
              "      <th>BackupOnline_SemServicoDeInternet</th>\n",
              "      <th>BackupOnline_Sim</th>\n",
              "      <th>SeguroNoDispositivo_Nao</th>\n",
              "      <th>SeguroNoDispositivo_SemServicoDeInternet</th>\n",
              "      <th>SeguroNoDispositivo_Sim</th>\n",
              "      <th>SuporteTecnico_Nao</th>\n",
              "      <th>SuporteTecnico_SemServicoDeInternet</th>\n",
              "      <th>SuporteTecnico_Sim</th>\n",
              "      <th>TVaCabo_Nao</th>\n",
              "      <th>TVaCabo_SemServicoDeInternet</th>\n",
              "      <th>TVaCabo_Sim</th>\n",
              "      <th>StreamingDeFilmes_Nao</th>\n",
              "      <th>StreamingDeFilmes_SemServicoDeInternet</th>\n",
              "      <th>StreamingDeFilmes_Sim</th>\n",
              "      <th>TipoDeContrato_DoisAnos</th>\n",
              "      <th>TipoDeContrato_Mensalmente</th>\n",
              "      <th>TipoDeContrato_UmAno</th>\n",
              "      <th>FormaDePagamento_CartaoDeCredito</th>\n",
              "      <th>FormaDePagamento_ChequeDigital</th>\n",
              "      <th>FormaDePagamento_ChequePapel</th>\n",
              "      <th>FormaDePagamento_DebitoEmConta</th>\n",
              "      <th>Churn</th>\n",
              "    </tr>\n",
              "  </thead>\n",
              "  <tbody>\n",
              "    <tr>\n",
              "      <th>0</th>\n",
              "      <td>1</td>\n",
              "      <td>0</td>\n",
              "      <td>0</td>\n",
              "      <td>1</td>\n",
              "      <td>0</td>\n",
              "      <td>1</td>\n",
              "      <td>29.85</td>\n",
              "      <td>0</td>\n",
              "      <td>1</td>\n",
              "      <td>0</td>\n",
              "      <td>1</td>\n",
              "      <td>0</td>\n",
              "      <td>0</td>\n",
              "      <td>1</td>\n",
              "      <td>0</td>\n",
              "      <td>0</td>\n",
              "      <td>0</td>\n",
              "      <td>0</td>\n",
              "      <td>1</td>\n",
              "      <td>1</td>\n",
              "      <td>0</td>\n",
              "      <td>0</td>\n",
              "      <td>1</td>\n",
              "      <td>0</td>\n",
              "      <td>0</td>\n",
              "      <td>1</td>\n",
              "      <td>0</td>\n",
              "      <td>0</td>\n",
              "      <td>1</td>\n",
              "      <td>0</td>\n",
              "      <td>0</td>\n",
              "      <td>0</td>\n",
              "      <td>1</td>\n",
              "      <td>0</td>\n",
              "      <td>0</td>\n",
              "      <td>1</td>\n",
              "      <td>0</td>\n",
              "      <td>0</td>\n",
              "      <td>0</td>\n",
              "    </tr>\n",
              "    <tr>\n",
              "      <th>1</th>\n",
              "      <td>0</td>\n",
              "      <td>0</td>\n",
              "      <td>1</td>\n",
              "      <td>0</td>\n",
              "      <td>0</td>\n",
              "      <td>34</td>\n",
              "      <td>56.95</td>\n",
              "      <td>1</td>\n",
              "      <td>0</td>\n",
              "      <td>0</td>\n",
              "      <td>1</td>\n",
              "      <td>0</td>\n",
              "      <td>0</td>\n",
              "      <td>0</td>\n",
              "      <td>0</td>\n",
              "      <td>1</td>\n",
              "      <td>1</td>\n",
              "      <td>0</td>\n",
              "      <td>0</td>\n",
              "      <td>0</td>\n",
              "      <td>0</td>\n",
              "      <td>1</td>\n",
              "      <td>1</td>\n",
              "      <td>0</td>\n",
              "      <td>0</td>\n",
              "      <td>1</td>\n",
              "      <td>0</td>\n",
              "      <td>0</td>\n",
              "      <td>1</td>\n",
              "      <td>0</td>\n",
              "      <td>0</td>\n",
              "      <td>0</td>\n",
              "      <td>0</td>\n",
              "      <td>1</td>\n",
              "      <td>0</td>\n",
              "      <td>0</td>\n",
              "      <td>1</td>\n",
              "      <td>0</td>\n",
              "      <td>0</td>\n",
              "    </tr>\n",
              "  </tbody>\n",
              "</table>\n",
              "</div>\n",
              "      <button class=\"colab-df-convert\" onclick=\"convertToInteractive('df-48499b99-b144-4d87-a32a-587b4d7878b9')\"\n",
              "              title=\"Convert this dataframe to an interactive table.\"\n",
              "              style=\"display:none;\">\n",
              "        \n",
              "  <svg xmlns=\"http://www.w3.org/2000/svg\" height=\"24px\"viewBox=\"0 0 24 24\"\n",
              "       width=\"24px\">\n",
              "    <path d=\"M0 0h24v24H0V0z\" fill=\"none\"/>\n",
              "    <path d=\"M18.56 5.44l.94 2.06.94-2.06 2.06-.94-2.06-.94-.94-2.06-.94 2.06-2.06.94zm-11 1L8.5 8.5l.94-2.06 2.06-.94-2.06-.94L8.5 2.5l-.94 2.06-2.06.94zm10 10l.94 2.06.94-2.06 2.06-.94-2.06-.94-.94-2.06-.94 2.06-2.06.94z\"/><path d=\"M17.41 7.96l-1.37-1.37c-.4-.4-.92-.59-1.43-.59-.52 0-1.04.2-1.43.59L10.3 9.45l-7.72 7.72c-.78.78-.78 2.05 0 2.83L4 21.41c.39.39.9.59 1.41.59.51 0 1.02-.2 1.41-.59l7.78-7.78 2.81-2.81c.8-.78.8-2.07 0-2.86zM5.41 20L4 18.59l7.72-7.72 1.47 1.35L5.41 20z\"/>\n",
              "  </svg>\n",
              "      </button>\n",
              "      \n",
              "  <style>\n",
              "    .colab-df-container {\n",
              "      display:flex;\n",
              "      flex-wrap:wrap;\n",
              "      gap: 12px;\n",
              "    }\n",
              "\n",
              "    .colab-df-convert {\n",
              "      background-color: #E8F0FE;\n",
              "      border: none;\n",
              "      border-radius: 50%;\n",
              "      cursor: pointer;\n",
              "      display: none;\n",
              "      fill: #1967D2;\n",
              "      height: 32px;\n",
              "      padding: 0 0 0 0;\n",
              "      width: 32px;\n",
              "    }\n",
              "\n",
              "    .colab-df-convert:hover {\n",
              "      background-color: #E2EBFA;\n",
              "      box-shadow: 0px 1px 2px rgba(60, 64, 67, 0.3), 0px 1px 3px 1px rgba(60, 64, 67, 0.15);\n",
              "      fill: #174EA6;\n",
              "    }\n",
              "\n",
              "    [theme=dark] .colab-df-convert {\n",
              "      background-color: #3B4455;\n",
              "      fill: #D2E3FC;\n",
              "    }\n",
              "\n",
              "    [theme=dark] .colab-df-convert:hover {\n",
              "      background-color: #434B5C;\n",
              "      box-shadow: 0px 1px 3px 1px rgba(0, 0, 0, 0.15);\n",
              "      filter: drop-shadow(0px 1px 2px rgba(0, 0, 0, 0.3));\n",
              "      fill: #FFFFFF;\n",
              "    }\n",
              "  </style>\n",
              "\n",
              "      <script>\n",
              "        const buttonEl =\n",
              "          document.querySelector('#df-48499b99-b144-4d87-a32a-587b4d7878b9 button.colab-df-convert');\n",
              "        buttonEl.style.display =\n",
              "          google.colab.kernel.accessAllowed ? 'block' : 'none';\n",
              "\n",
              "        async function convertToInteractive(key) {\n",
              "          const element = document.querySelector('#df-48499b99-b144-4d87-a32a-587b4d7878b9');\n",
              "          const dataTable =\n",
              "            await google.colab.kernel.invokeFunction('convertToInteractive',\n",
              "                                                     [key], {});\n",
              "          if (!dataTable) return;\n",
              "\n",
              "          const docLinkHtml = 'Like what you see? Visit the ' +\n",
              "            '<a target=\"_blank\" href=https://colab.research.google.com/notebooks/data_table.ipynb>data table notebook</a>'\n",
              "            + ' to learn more about interactive tables.';\n",
              "          element.innerHTML = '';\n",
              "          dataTable['output_type'] = 'display_data';\n",
              "          await google.colab.output.renderOutput(dataTable, element);\n",
              "          const docLink = document.createElement('div');\n",
              "          docLink.innerHTML = docLinkHtml;\n",
              "          element.appendChild(docLink);\n",
              "        }\n",
              "      </script>\n",
              "    </div>\n",
              "  </div>\n",
              "  "
            ]
          },
          "metadata": {},
          "execution_count": 13
        }
      ]
    },
    {
      "cell_type": "code",
      "source": [
        "ax = sns.countplot(x='Churn', data=dados_final)  # plotando a variável target balanceada."
      ],
      "metadata": {
        "colab": {
          "base_uri": "https://localhost:8080/",
          "height": 449
        },
        "id": "gM6_LuRqwfKq",
        "outputId": "9ccd830b-a646-430e-c74f-334d2e906f58"
      },
      "execution_count": null,
      "outputs": [
        {
          "output_type": "display_data",
          "data": {
            "text/plain": [
              "<Figure size 640x480 with 1 Axes>"
            ],
            "image/png": "[encoded data removed]"
          },
          "metadata": {}
        }
      ]
    },
    {
      "cell_type": "markdown",
      "source": [
        "**2. KNN** "
      ],
      "metadata": {
        "id": "jk0uSjMt7q2B"
      }
    },
    {
      "cell_type": "code",
      "source": [
        "Xmaria = [[0,0,1,1,0,0,39.90,1,0,0,0,1,0,1,0,0,0,0,1,1,1,0,0,1,0,1,0,0,0,0,1,0,0,1,0,0,0,1]]\n",
        "#Vetor de caracteristicas do objeto Maria"
      ],
      "metadata": {
        "id": "qMktnS70q2-_"
      },
      "execution_count": null,
      "outputs": []
    },
    {
      "cell_type": "code",
      "source": [
        "# Primeiro é necessario dividir separa os inputs e outputs\n",
        "X = dados_final.drop('Churn', axis=1)\n",
        "Y = dados_final['Churn']"
      ],
      "metadata": {
        "id": "COeEoBCt8FuW"
      },
      "execution_count": null,
      "outputs": []
    },
    {
      "cell_type": "code",
      "source": [
        "#Por se tratar de uma métrica de distância é deixar todos os valores na mesma escala\n",
        "#Importar lib do sklearn para padronizar os dados\n",
        "from sklearn.preprocessing import StandardScaler\n",
        "\n",
        "# Coleta cada um dos atributos do nosso conjunto e realiza a seguinte operacao:\n",
        "# Subtrai a média desse conjunto e faz a divisão pelo desvio padrão.\n",
        "# Para realizarmos esse calculo nesse conjunto de funções no nosso X precisamos primeiro instanciar essa função."
      ],
      "metadata": {
        "id": "Uw_pbQmK8F6o"
      },
      "execution_count": null,
      "outputs": []
    },
    {
      "cell_type": "code",
      "source": [
        "norm = StandardScaler()\n",
        "\n",
        "X_normalizado = norm.fit_transform(X)\n",
        "X_normalizado"
      ],
      "metadata": {
        "colab": {
          "base_uri": "https://localhost:8080/"
        },
        "id": "MFANLlBg8GEy",
        "outputId": "fb812e47-ead6-4455-e13c-7a9eba74f79d"
      },
      "execution_count": null,
      "outputs": [
        {
          "output_type": "execute_result",
          "data": {
            "text/plain": [
              "array([[ 1.26542767, -0.52771004, -3.06083934, ...,  1.30373042,\n",
              "        -0.47912706, -0.4360152 ],\n",
              "       [-0.79024667, -0.52771004,  0.32670777, ..., -0.76702973,\n",
              "         2.08712905, -0.4360152 ],\n",
              "       [-0.79024667, -0.52771004,  0.32670777, ..., -0.76702973,\n",
              "         2.08712905, -0.4360152 ],\n",
              "       ...,\n",
              "       [-0.79024667, -0.52771004,  0.32670777, ...,  1.30373042,\n",
              "        -0.47912706, -0.4360152 ],\n",
              "       [-0.79024667, -0.52771004,  0.32670777, ..., -0.76702973,\n",
              "        -0.47912706, -0.4360152 ],\n",
              "       [-0.79024667, -0.52771004,  0.32670777, ..., -0.76702973,\n",
              "        -0.47912706, -0.4360152 ]])"
            ]
          },
          "metadata": {},
          "execution_count": 18
        }
      ]
    },
    {
      "cell_type": "code",
      "source": [
        "X_normalizado[0]\n",
        "\n",
        "#Todas as info do conjunto de dados do cliente 0 "
      ],
      "metadata": {
        "colab": {
          "base_uri": "https://localhost:8080/"
        },
        "id": "FFwPHE2V8GOf",
        "outputId": "2e06c976-520a-4b54-fefe-1083b961a2b2"
      },
      "execution_count": null,
      "outputs": [
        {
          "output_type": "execute_result",
          "data": {
            "text/plain": [
              "array([ 1.26542767, -0.52771004, -3.06083934,  0.81482091, -0.41318358,\n",
              "       -1.10771815, -1.3217706 , -0.88447396,  3.18604176, -0.83366906,\n",
              "        1.51268338, -1.04386816, -0.44617598,  0.86827317, -0.44617598,\n",
              "       -0.51721942, -0.95834643, -0.44617598,  1.57389661,  1.04285807,\n",
              "       -0.44617598, -0.64211419,  0.87979784, -0.44617598, -0.52426638,\n",
              "        1.18690873, -0.44617598, -0.77707385,  1.20311799, -0.44617598,\n",
              "       -0.78976268, -0.44648735,  0.73788726, -0.41989297, -0.42576817,\n",
              "        1.30373042, -0.47912706, -0.4360152 ])"
            ]
          },
          "metadata": {},
          "execution_count": 19
        }
      ]
    },
    {
      "cell_type": "code",
      "source": [
        "#Só é apicado quando o conjunto de dados esta aplicado numa resolucao 2D, linhas e colunas de informacoes\n",
        "Xmaria_normalizado = norm.transform(pd.DataFrame(Xmaria, columns = X.columns))\n",
        "Xmaria_normalizado\n",
        "\n",
        "#Agora é necessario calcular a distancia de Maria com cliente 0 \n",
        "#Para isso é necssario utilizarmos uma metrica de distancia"
      ],
      "metadata": {
        "colab": {
          "base_uri": "https://localhost:8080/"
        },
        "id": "ETByNeIn-uYo",
        "outputId": "d0781766-0d36-4e70-d7b6-337e6226a2a8"
      },
      "execution_count": null,
      "outputs": [
        {
          "output_type": "execute_result",
          "data": {
            "text/plain": [
              "array([[-0.79024667, -0.52771004,  0.32670777,  0.81482091, -0.41318358,\n",
              "        -1.14938255, -0.97236043,  1.13061554, -0.31386908, -0.83366906,\n",
              "        -0.66107688,  0.95797538, -0.44617598,  0.86827317, -0.44617598,\n",
              "        -0.51721942, -0.95834643, -0.44617598,  1.57389661,  1.04285807,\n",
              "         2.24126814, -0.64211419, -1.13662476,  2.24126814, -0.52426638,\n",
              "         1.18690873, -0.44617598, -0.77707385, -0.83117367, -0.44617598,\n",
              "         1.26620316, -0.44648735, -1.35522058,  2.38155929, -0.42576817,\n",
              "        -0.76702973, -0.47912706,  2.293498  ]])"
            ]
          },
          "metadata": {},
          "execution_count": 20
        }
      ]
    },
    {
      "cell_type": "markdown",
      "source": [
        "**Distancia Eucliadiana:**\n",
        "\n",
        "![image.png](data:image/png;base64,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)"
      ],
      "metadata": {
        "id": "dp5whp3Q_74R"
      }
    },
    {
      "cell_type": "code",
      "source": [
        "import numpy as np"
      ],
      "metadata": {
        "id": "GP6h1BLKBq3L"
      },
      "execution_count": null,
      "outputs": []
    },
    {
      "cell_type": "code",
      "source": [
        "a = Xmaria_normalizado"
      ],
      "metadata": {
        "id": "zb691g-GBynC"
      },
      "execution_count": null,
      "outputs": []
    },
    {
      "cell_type": "code",
      "source": [
        "b = X_normalizado[0]"
      ],
      "metadata": {
        "id": "O7ekOdLVByqz"
      },
      "execution_count": null,
      "outputs": []
    },
    {
      "cell_type": "code",
      "source": [
        "#Comecaremos a aplicar os valores descritos acima na funcao da metrica euclidiana \n",
        "a - b"
      ],
      "metadata": {
        "id": "Vq2DW21aB_We",
        "colab": {
          "base_uri": "https://localhost:8080/"
        },
        "outputId": "6de9988b-360e-4b63-8817-98d2cd3654b0"
      },
      "execution_count": null,
      "outputs": [
        {
          "output_type": "execute_result",
          "data": {
            "text/plain": [
              "array([[-2.05567434,  0.        ,  3.38754711,  0.        ,  0.        ,\n",
              "        -0.0416644 ,  0.34941017,  2.0150895 , -3.49991084,  0.        ,\n",
              "        -2.17376025,  2.00184354,  0.        ,  0.        ,  0.        ,\n",
              "         0.        ,  0.        ,  0.        ,  0.        ,  0.        ,\n",
              "         2.68744412,  0.        , -2.01642259,  2.68744412,  0.        ,\n",
              "         0.        ,  0.        ,  0.        , -2.03429166,  0.        ,\n",
              "         2.05596584,  0.        , -2.09310784,  2.80145225,  0.        ,\n",
              "        -2.07076016,  0.        ,  2.72951321]])"
            ]
          },
          "metadata": {},
          "execution_count": 24
        }
      ]
    },
    {
      "cell_type": "code",
      "source": [
        "np.square(a - b)"
      ],
      "metadata": {
        "id": "S22RysqlB_gG",
        "colab": {
          "base_uri": "https://localhost:8080/"
        },
        "outputId": "a0bc6328-02ab-4d9b-de3b-d2b59b4a63c3"
      },
      "execution_count": null,
      "outputs": [
        {
          "output_type": "execute_result",
          "data": {
            "text/plain": [
              "array([[4.22579699e+00, 0.00000000e+00, 1.14754754e+01, 0.00000000e+00,\n",
              "        0.00000000e+00, 1.73592202e-03, 1.22087466e-01, 4.06058568e+00,\n",
              "        1.22493759e+01, 0.00000000e+00, 4.72523363e+00, 4.00737757e+00,\n",
              "        0.00000000e+00, 0.00000000e+00, 0.00000000e+00, 0.00000000e+00,\n",
              "        0.00000000e+00, 0.00000000e+00, 0.00000000e+00, 0.00000000e+00,\n",
              "        7.22235589e+00, 0.00000000e+00, 4.06596007e+00, 7.22235589e+00,\n",
              "        0.00000000e+00, 0.00000000e+00, 0.00000000e+00, 0.00000000e+00,\n",
              "        4.13834258e+00, 0.00000000e+00, 4.22699553e+00, 0.00000000e+00,\n",
              "        4.38110042e+00, 7.84813473e+00, 0.00000000e+00, 4.28804763e+00,\n",
              "        0.00000000e+00, 7.45024235e+00]])"
            ]
          },
          "metadata": {},
          "execution_count": 25
        }
      ]
    },
    {
      "cell_type": "code",
      "source": [
        "np.sum(np.square(a-b))"
      ],
      "metadata": {
        "id": "YnSkOVn2B_q3",
        "colab": {
          "base_uri": "https://localhost:8080/"
        },
        "outputId": "b2658425-27b5-40c2-fe0f-7c7511380d34"
      },
      "execution_count": null,
      "outputs": [
        {
          "output_type": "execute_result",
          "data": {
            "text/plain": [
              "91.7112036526817"
            ]
          },
          "metadata": {},
          "execution_count": 26
        }
      ]
    },
    {
      "cell_type": "code",
      "source": [
        "np.sqrt(91.7112036526817)"
      ],
      "metadata": {
        "colab": {
          "base_uri": "https://localhost:8080/"
        },
        "id": "zIGhYi9OBf6F",
        "outputId": "f02768bc-fe75-48bd-ed40-fa9938ac7194"
      },
      "execution_count": null,
      "outputs": [
        {
          "output_type": "execute_result",
          "data": {
            "text/plain": [
              "9.576596663360199"
            ]
          },
          "metadata": {},
          "execution_count": 27
        }
      ]
    },
    {
      "cell_type": "markdown",
      "source": [
        "**2.1 - Importar o sklearn para treinar o algoritmo**"
      ],
      "metadata": {
        "id": "yy0tQSMNDBIB"
      }
    },
    {
      "cell_type": "code",
      "source": [
        "from sklearn.model_selection import train_test_split"
      ],
      "metadata": {
        "id": "HeP7pXtYDIXg"
      },
      "execution_count": null,
      "outputs": []
    },
    {
      "cell_type": "code",
      "source": [
        "X_treino, X_teste, y_treino, y_teste = train_test_split(X_normalizado, y, test_size=0.3, random_state=123)\n",
        "#text_size: tamanho do conjunto de teste\n",
        "#random_state: valor para que essa divisao aleatoria possa ser reproduzida por voce, para garantir a reprodutibilidade dos nossos resultados"
      ],
      "metadata": {
        "id": "3dtwLVopDRKz"
      },
      "execution_count": null,
      "outputs": []
    },
    {
      "cell_type": "markdown",
      "source": [
        "**Treino e teste do algoritmo**"
      ],
      "metadata": {
        "id": "d0BH63uKDe1E"
      }
    },
    {
      "cell_type": "code",
      "source": [
        "#biblioteca do modelo KNN \n",
        "from sklearn.neighbors import KNeighborsClassifier"
      ],
      "metadata": {
        "id": "mYy_-qLYDXKI"
      },
      "execution_count": null,
      "outputs": []
    },
    {
      "cell_type": "code",
      "source": [
        "# instanciar (criar) o modelo - que por padrao, consiste em 5 neighbors \n",
        "knn = KNeighborsClassifier(metric='euclidean')"
      ],
      "metadata": {
        "id": "C52KrLV6DXWY"
      },
      "execution_count": null,
      "outputs": []
    },
    {
      "cell_type": "code",
      "source": [
        "#treinando o modelo com os dadso do teste\n",
        "knn.fit(X_treino, y_treino)"
      ],
      "metadata": {
        "colab": {
          "base_uri": "https://localhost:8080/",
          "height": 74
        },
        "id": "IOLDWpajDXhE",
        "outputId": "8662e93a-c5eb-4826-ec8a-0e63608d8b6a"
      },
      "execution_count": null,
      "outputs": [
        {
          "output_type": "execute_result",
          "data": {
            "text/plain": [
              "KNeighborsClassifier(metric='euclidean')"
            ],
            "text/html": [
              "<style>#sk-container-id-1 {color: black;background-color: white;}#sk-container-id-1 pre{padding: 0;}#sk-container-id-1 div.sk-toggleable {background-color: white;}#sk-container-id-1 label.sk-toggleable__label {cursor: pointer;display: block;width: 100%;margin-bottom: 0;padding: 0.3em;box-sizing: border-box;text-align: center;}#sk-container-id-1 label.sk-toggleable__label-arrow:before {content: \"▸\";float: left;margin-right: 0.25em;color: #696969;}#sk-container-id-1 label.sk-toggleable__label-arrow:hover:before {color: black;}#sk-container-id-1 div.sk-estimator:hover label.sk-toggleable__label-arrow:before {color: black;}#sk-container-id-1 div.sk-toggleable__content {max-height: 0;max-width: 0;overflow: hidden;text-align: left;background-color: #f0f8ff;}#sk-container-id-1 div.sk-toggleable__content pre {margin: 0.2em;color: black;border-radius: 0.25em;background-color: #f0f8ff;}#sk-container-id-1 input.sk-toggleable__control:checked~div.sk-toggleable__content {max-height: 200px;max-width: 100%;overflow: auto;}#sk-container-id-1 input.sk-toggleable__control:checked~label.sk-toggleable__label-arrow:before {content: \"▾\";}#sk-container-id-1 div.sk-estimator input.sk-toggleable__control:checked~label.sk-toggleable__label {background-color: #d4ebff;}#sk-container-id-1 div.sk-label input.sk-toggleable__control:checked~label.sk-toggleable__label {background-color: #d4ebff;}#sk-container-id-1 input.sk-hidden--visually {border: 0;clip: rect(1px 1px 1px 1px);clip: rect(1px, 1px, 1px, 1px);height: 1px;margin: -1px;overflow: hidden;padding: 0;position: absolute;width: 1px;}#sk-container-id-1 div.sk-estimator {font-family: monospace;background-color: #f0f8ff;border: 1px dotted black;border-radius: 0.25em;box-sizing: border-box;margin-bottom: 0.5em;}#sk-container-id-1 div.sk-estimator:hover {background-color: #d4ebff;}#sk-container-id-1 div.sk-parallel-item::after {content: \"\";width: 100%;border-bottom: 1px solid gray;flex-grow: 1;}#sk-container-id-1 div.sk-label:hover label.sk-toggleable__label {background-color: #d4ebff;}#sk-container-id-1 div.sk-serial::before {content: \"\";position: absolute;border-left: 1px solid gray;box-sizing: border-box;top: 0;bottom: 0;left: 50%;z-index: 0;}#sk-container-id-1 div.sk-serial {display: flex;flex-direction: column;align-items: center;background-color: white;padding-right: 0.2em;padding-left: 0.2em;position: relative;}#sk-container-id-1 div.sk-item {position: relative;z-index: 1;}#sk-container-id-1 div.sk-parallel {display: flex;align-items: stretch;justify-content: center;background-color: white;position: relative;}#sk-container-id-1 div.sk-item::before, #sk-container-id-1 div.sk-parallel-item::before {content: \"\";position: absolute;border-left: 1px solid gray;box-sizing: border-box;top: 0;bottom: 0;left: 50%;z-index: -1;}#sk-container-id-1 div.sk-parallel-item {display: flex;flex-direction: column;z-index: 1;position: relative;background-color: white;}#sk-container-id-1 div.sk-parallel-item:first-child::after {align-self: flex-end;width: 50%;}#sk-container-id-1 div.sk-parallel-item:last-child::after {align-self: flex-start;width: 50%;}#sk-container-id-1 div.sk-parallel-item:only-child::after {width: 0;}#sk-container-id-1 div.sk-dashed-wrapped {border: 1px dashed gray;margin: 0 0.4em 0.5em 0.4em;box-sizing: border-box;padding-bottom: 0.4em;background-color: white;}#sk-container-id-1 div.sk-label label {font-family: monospace;font-weight: bold;display: inline-block;line-height: 1.2em;}#sk-container-id-1 div.sk-label-container {text-align: center;}#sk-container-id-1 div.sk-container {/* jupyter's `normalize.less` sets `[hidden] { display: none; }` but bootstrap.min.css set `[hidden] { display: none !important; }` so we also need the `!important` here to be able to override the default hidden behavior on the sphinx rendered scikit-learn.org. See: https://github.com/scikit-learn/scikit-learn/issues/21755 */display: inline-block !important;position: relative;}#sk-container-id-1 div.sk-text-repr-fallback {display: none;}</style><div id=\"sk-container-id-1\" class=\"sk-top-container\"><div class=\"sk-text-repr-fallback\"><pre>KNeighborsClassifier(metric=&#x27;euclidean&#x27;)</pre><b>In a Jupyter environment, please rerun this cell to show the HTML representation or trust the notebook. <br />On GitHub, the HTML representation is unable to render, please try loading this page with nbviewer.org.</b></div><div class=\"sk-container\" hidden><div class=\"sk-item\"><div class=\"sk-estimator sk-toggleable\"><input class=\"sk-toggleable__control sk-hidden--visually\" id=\"sk-estimator-id-1\" type=\"checkbox\" checked><label for=\"sk-estimator-id-1\" class=\"sk-toggleable__label sk-toggleable__label-arrow\">KNeighborsClassifier</label><div class=\"sk-toggleable__content\"><pre>KNeighborsClassifier(metric=&#x27;euclidean&#x27;)</pre></div></div></div></div></div>"
            ]
          },
          "metadata": {},
          "execution_count": 32
        }
      ]
    },
    {
      "cell_type": "code",
      "source": [
        "#testando o modelo com os dados de teste \n",
        "predito_knn = knn.predict(X_teste)"
      ],
      "metadata": {
        "id": "RzcLkObGDXse"
      },
      "execution_count": null,
      "outputs": []
    },
    {
      "cell_type": "code",
      "source": [
        "predito_knn"
      ],
      "metadata": {
        "colab": {
          "base_uri": "https://localhost:8080/"
        },
        "id": "pQq4OSWCfACq",
        "outputId": "20b1b6b9-aadd-42b2-e4bd-b6b78ed6cdd2"
      },
      "execution_count": null,
      "outputs": [
        {
          "output_type": "execute_result",
          "data": {
            "text/plain": [
              "array([1, 0, 0, ..., 0, 1, 1])"
            ]
          },
          "metadata": {},
          "execution_count": 34
        }
      ]
    },
    {
      "cell_type": "markdown",
      "source": [
        "**Treino e teste - Modelo Naives Bayes**"
      ],
      "metadata": {
        "id": "qScUGCx7OjBL"
      }
    },
    {
      "cell_type": "code",
      "source": [
        "X_treino"
      ],
      "metadata": {
        "colab": {
          "base_uri": "https://localhost:8080/"
        },
        "id": "BQLevhRDOgwK",
        "outputId": "77b3ecee-9f5e-42e9-c5a8-4508cd984d9b"
      },
      "execution_count": null,
      "outputs": [
        {
          "output_type": "execute_result",
          "data": {
            "text/plain": [
              "array([[-0.79024667, -0.52771004, -3.06083934, ..., -0.76702973,\n",
              "         2.08712905, -0.4360152 ],\n",
              "       [ 1.26542767,  1.89498006,  0.32670777, ..., -0.76702973,\n",
              "         2.08712905, -0.4360152 ],\n",
              "       [-0.79024667, -0.52771004,  0.32670777, ...,  1.30373042,\n",
              "        -0.47912706, -0.4360152 ],\n",
              "       ...,\n",
              "       [ 1.26542767,  1.89498006,  0.32670777, ..., -0.76702973,\n",
              "         2.08712905, -0.4360152 ],\n",
              "       [ 1.26542767,  1.89498006,  0.32670777, ...,  1.30373042,\n",
              "        -0.47912706, -0.4360152 ],\n",
              "       [-0.79024667, -0.52771004,  0.32670777, ...,  1.30373042,\n",
              "        -0.47912706, -0.4360152 ]])"
            ]
          },
          "metadata": {},
          "execution_count": 35
        }
      ]
    },
    {
      "cell_type": "code",
      "source": [
        "y_treino"
      ],
      "metadata": {
        "colab": {
          "base_uri": "https://localhost:8080/"
        },
        "id": "1Vl3PoI1PC2T",
        "outputId": "541e4876-6cfb-4205-fe73-e8aff03f8316"
      },
      "execution_count": null,
      "outputs": [
        {
          "output_type": "execute_result",
          "data": {
            "text/plain": [
              "4831    0\n",
              "5077    0\n",
              "9023    1\n",
              "4424    1\n",
              "5236    0\n",
              "       ..\n",
              "9785    1\n",
              "7763    1\n",
              "5218    0\n",
              "1346    1\n",
              "3582    0\n",
              "Name: Churn, Length: 7243, dtype: int64"
            ]
          },
          "metadata": {},
          "execution_count": 36
        }
      ]
    },
    {
      "cell_type": "code",
      "source": [
        "#mediana dos dados como valor central\n",
        "np.median(X_treino)"
      ],
      "metadata": {
        "colab": {
          "base_uri": "https://localhost:8080/"
        },
        "id": "jRHe84sIPErW",
        "outputId": "22c2afa3-f4b4-484c-b1f0-2f54de4e8c58"
      },
      "execution_count": null,
      "outputs": [
        {
          "output_type": "execute_result",
          "data": {
            "text/plain": [
              "-0.4461759755508453"
            ]
          },
          "metadata": {},
          "execution_count": 37
        }
      ]
    },
    {
      "cell_type": "code",
      "source": [
        "from sklearn.naive_bayes import BernoulliNB"
      ],
      "metadata": {
        "id": "6gEdO4QYPJHR"
      },
      "execution_count": null,
      "outputs": []
    },
    {
      "cell_type": "code",
      "source": [
        "#valores acima deste valor obtido pela mediana do X_teste é transfromado em 1, e valores abaixo em 0.\n",
        "bnb = BernoulliNB(binarize= 0.44)"
      ],
      "metadata": {
        "id": "5VXJAQ-PPYVf"
      },
      "execution_count": null,
      "outputs": []
    },
    {
      "cell_type": "code",
      "source": [
        "bnb.fit(X_treino,y_treino)\n",
        "#a funcao bnb.fit nao compreende valores floats negativos"
      ],
      "metadata": {
        "colab": {
          "base_uri": "https://localhost:8080/",
          "height": 74
        },
        "id": "hM--SjVHQN6v",
        "outputId": "4fc6e7b6-bade-4543-8adc-069c927fe4c0"
      },
      "execution_count": null,
      "outputs": [
        {
          "output_type": "execute_result",
          "data": {
            "text/plain": [
              "BernoulliNB(binarize=0.44)"
            ],
            "text/html": [
              "<style>#sk-container-id-2 {color: black;background-color: white;}#sk-container-id-2 pre{padding: 0;}#sk-container-id-2 div.sk-toggleable {background-color: white;}#sk-container-id-2 label.sk-toggleable__label {cursor: pointer;display: block;width: 100%;margin-bottom: 0;padding: 0.3em;box-sizing: border-box;text-align: center;}#sk-container-id-2 label.sk-toggleable__label-arrow:before {content: \"▸\";float: left;margin-right: 0.25em;color: #696969;}#sk-container-id-2 label.sk-toggleable__label-arrow:hover:before {color: black;}#sk-container-id-2 div.sk-estimator:hover label.sk-toggleable__label-arrow:before {color: black;}#sk-container-id-2 div.sk-toggleable__content {max-height: 0;max-width: 0;overflow: hidden;text-align: left;background-color: #f0f8ff;}#sk-container-id-2 div.sk-toggleable__content pre {margin: 0.2em;color: black;border-radius: 0.25em;background-color: #f0f8ff;}#sk-container-id-2 input.sk-toggleable__control:checked~div.sk-toggleable__content {max-height: 200px;max-width: 100%;overflow: auto;}#sk-container-id-2 input.sk-toggleable__control:checked~label.sk-toggleable__label-arrow:before {content: \"▾\";}#sk-container-id-2 div.sk-estimator input.sk-toggleable__control:checked~label.sk-toggleable__label {background-color: #d4ebff;}#sk-container-id-2 div.sk-label input.sk-toggleable__control:checked~label.sk-toggleable__label {background-color: #d4ebff;}#sk-container-id-2 input.sk-hidden--visually {border: 0;clip: rect(1px 1px 1px 1px);clip: rect(1px, 1px, 1px, 1px);height: 1px;margin: -1px;overflow: hidden;padding: 0;position: absolute;width: 1px;}#sk-container-id-2 div.sk-estimator {font-family: monospace;background-color: #f0f8ff;border: 1px dotted black;border-radius: 0.25em;box-sizing: border-box;margin-bottom: 0.5em;}#sk-container-id-2 div.sk-estimator:hover {background-color: #d4ebff;}#sk-container-id-2 div.sk-parallel-item::after {content: \"\";width: 100%;border-bottom: 1px solid gray;flex-grow: 1;}#sk-container-id-2 div.sk-label:hover label.sk-toggleable__label {background-color: #d4ebff;}#sk-container-id-2 div.sk-serial::before {content: \"\";position: absolute;border-left: 1px solid gray;box-sizing: border-box;top: 0;bottom: 0;left: 50%;z-index: 0;}#sk-container-id-2 div.sk-serial {display: flex;flex-direction: column;align-items: center;background-color: white;padding-right: 0.2em;padding-left: 0.2em;position: relative;}#sk-container-id-2 div.sk-item {position: relative;z-index: 1;}#sk-container-id-2 div.sk-parallel {display: flex;align-items: stretch;justify-content: center;background-color: white;position: relative;}#sk-container-id-2 div.sk-item::before, #sk-container-id-2 div.sk-parallel-item::before {content: \"\";position: absolute;border-left: 1px solid gray;box-sizing: border-box;top: 0;bottom: 0;left: 50%;z-index: -1;}#sk-container-id-2 div.sk-parallel-item {display: flex;flex-direction: column;z-index: 1;position: relative;background-color: white;}#sk-container-id-2 div.sk-parallel-item:first-child::after {align-self: flex-end;width: 50%;}#sk-container-id-2 div.sk-parallel-item:last-child::after {align-self: flex-start;width: 50%;}#sk-container-id-2 div.sk-parallel-item:only-child::after {width: 0;}#sk-container-id-2 div.sk-dashed-wrapped {border: 1px dashed gray;margin: 0 0.4em 0.5em 0.4em;box-sizing: border-box;padding-bottom: 0.4em;background-color: white;}#sk-container-id-2 div.sk-label label {font-family: monospace;font-weight: bold;display: inline-block;line-height: 1.2em;}#sk-container-id-2 div.sk-label-container {text-align: center;}#sk-container-id-2 div.sk-container {/* jupyter's `normalize.less` sets `[hidden] { display: none; }` but bootstrap.min.css set `[hidden] { display: none !important; }` so we also need the `!important` here to be able to override the default hidden behavior on the sphinx rendered scikit-learn.org. See: https://github.com/scikit-learn/scikit-learn/issues/21755 */display: inline-block !important;position: relative;}#sk-container-id-2 div.sk-text-repr-fallback {display: none;}</style><div id=\"sk-container-id-2\" class=\"sk-top-container\"><div class=\"sk-text-repr-fallback\"><pre>BernoulliNB(binarize=0.44)</pre><b>In a Jupyter environment, please rerun this cell to show the HTML representation or trust the notebook. <br />On GitHub, the HTML representation is unable to render, please try loading this page with nbviewer.org.</b></div><div class=\"sk-container\" hidden><div class=\"sk-item\"><div class=\"sk-estimator sk-toggleable\"><input class=\"sk-toggleable__control sk-hidden--visually\" id=\"sk-estimator-id-2\" type=\"checkbox\" checked><label for=\"sk-estimator-id-2\" class=\"sk-toggleable__label sk-toggleable__label-arrow\">BernoulliNB</label><div class=\"sk-toggleable__content\"><pre>BernoulliNB(binarize=0.44)</pre></div></div></div></div></div>"
            ]
          },
          "metadata": {},
          "execution_count": 40
        }
      ]
    },
    {
      "cell_type": "code",
      "source": [
        "predito_Bnb = bnb.predict(X_teste)\n"
      ],
      "metadata": {
        "id": "tYOIWBA7QXex"
      },
      "execution_count": null,
      "outputs": []
    },
    {
      "cell_type": "code",
      "source": [
        "predito_Bnb"
      ],
      "metadata": {
        "colab": {
          "base_uri": "https://localhost:8080/"
        },
        "id": "QSr5-YgeRVaP",
        "outputId": "89a18511-0619-4e2a-f070-d4461ed906b3"
      },
      "execution_count": null,
      "outputs": [
        {
          "output_type": "execute_result",
          "data": {
            "text/plain": [
              "array([1, 0, 0, ..., 1, 1, 1])"
            ]
          },
          "metadata": {},
          "execution_count": 42
        }
      ]
    },
    {
      "cell_type": "markdown",
      "source": [
        "**Modelo Decision Tree**"
      ],
      "metadata": {
        "id": "0ySArvpJauoo"
      }
    },
    {
      "cell_type": "code",
      "source": [
        "from sklearn.tree import DecisionTreeClassifier"
      ],
      "metadata": {
        "id": "tiMvlJCxTLiN"
      },
      "execution_count": null,
      "outputs": []
    },
    {
      "cell_type": "code",
      "source": [
        "#Instanciando o modelo \n",
        "dtc = DecisionTreeClassifier(criterion='entropy', random_state=42)\n",
        "# --> criterio  escolhido foi o entropy\n",
        "# --> estado de aleatoriedade para reproduzir o resultado"
      ],
      "metadata": {
        "id": "TuvNbIy0azsA"
      },
      "execution_count": null,
      "outputs": []
    },
    {
      "cell_type": "code",
      "source": [
        "dtc.fit(X_treino, y_treino)\n",
        "#modelo treinado "
      ],
      "metadata": {
        "colab": {
          "base_uri": "https://localhost:8080/",
          "height": 74
        },
        "id": "jDe2PtRRa3bx",
        "outputId": "967ca574-7102-4ea6-cf39-4fb65d458573"
      },
      "execution_count": null,
      "outputs": [
        {
          "output_type": "execute_result",
          "data": {
            "text/plain": [
              "DecisionTreeClassifier(criterion='entropy', random_state=42)"
            ],
            "text/html": [
              "<style>#sk-container-id-3 {color: black;background-color: white;}#sk-container-id-3 pre{padding: 0;}#sk-container-id-3 div.sk-toggleable {background-color: white;}#sk-container-id-3 label.sk-toggleable__label {cursor: pointer;display: block;width: 100%;margin-bottom: 0;padding: 0.3em;box-sizing: border-box;text-align: center;}#sk-container-id-3 label.sk-toggleable__label-arrow:before {content: \"▸\";float: left;margin-right: 0.25em;color: #696969;}#sk-container-id-3 label.sk-toggleable__label-arrow:hover:before {color: black;}#sk-container-id-3 div.sk-estimator:hover label.sk-toggleable__label-arrow:before {color: black;}#sk-container-id-3 div.sk-toggleable__content {max-height: 0;max-width: 0;overflow: hidden;text-align: left;background-color: #f0f8ff;}#sk-container-id-3 div.sk-toggleable__content pre {margin: 0.2em;color: black;border-radius: 0.25em;background-color: #f0f8ff;}#sk-container-id-3 input.sk-toggleable__control:checked~div.sk-toggleable__content {max-height: 200px;max-width: 100%;overflow: auto;}#sk-container-id-3 input.sk-toggleable__control:checked~label.sk-toggleable__label-arrow:before {content: \"▾\";}#sk-container-id-3 div.sk-estimator input.sk-toggleable__control:checked~label.sk-toggleable__label {background-color: #d4ebff;}#sk-container-id-3 div.sk-label input.sk-toggleable__control:checked~label.sk-toggleable__label {background-color: #d4ebff;}#sk-container-id-3 input.sk-hidden--visually {border: 0;clip: rect(1px 1px 1px 1px);clip: rect(1px, 1px, 1px, 1px);height: 1px;margin: -1px;overflow: hidden;padding: 0;position: absolute;width: 1px;}#sk-container-id-3 div.sk-estimator {font-family: monospace;background-color: #f0f8ff;border: 1px dotted black;border-radius: 0.25em;box-sizing: border-box;margin-bottom: 0.5em;}#sk-container-id-3 div.sk-estimator:hover {background-color: #d4ebff;}#sk-container-id-3 div.sk-parallel-item::after {content: \"\";width: 100%;border-bottom: 1px solid gray;flex-grow: 1;}#sk-container-id-3 div.sk-label:hover label.sk-toggleable__label {background-color: #d4ebff;}#sk-container-id-3 div.sk-serial::before {content: \"\";position: absolute;border-left: 1px solid gray;box-sizing: border-box;top: 0;bottom: 0;left: 50%;z-index: 0;}#sk-container-id-3 div.sk-serial {display: flex;flex-direction: column;align-items: center;background-color: white;padding-right: 0.2em;padding-left: 0.2em;position: relative;}#sk-container-id-3 div.sk-item {position: relative;z-index: 1;}#sk-container-id-3 div.sk-parallel {display: flex;align-items: stretch;justify-content: center;background-color: white;position: relative;}#sk-container-id-3 div.sk-item::before, #sk-container-id-3 div.sk-parallel-item::before {content: \"\";position: absolute;border-left: 1px solid gray;box-sizing: border-box;top: 0;bottom: 0;left: 50%;z-index: -1;}#sk-container-id-3 div.sk-parallel-item {display: flex;flex-direction: column;z-index: 1;position: relative;background-color: white;}#sk-container-id-3 div.sk-parallel-item:first-child::after {align-self: flex-end;width: 50%;}#sk-container-id-3 div.sk-parallel-item:last-child::after {align-self: flex-start;width: 50%;}#sk-container-id-3 div.sk-parallel-item:only-child::after {width: 0;}#sk-container-id-3 div.sk-dashed-wrapped {border: 1px dashed gray;margin: 0 0.4em 0.5em 0.4em;box-sizing: border-box;padding-bottom: 0.4em;background-color: white;}#sk-container-id-3 div.sk-label label {font-family: monospace;font-weight: bold;display: inline-block;line-height: 1.2em;}#sk-container-id-3 div.sk-label-container {text-align: center;}#sk-container-id-3 div.sk-container {/* jupyter's `normalize.less` sets `[hidden] { display: none; }` but bootstrap.min.css set `[hidden] { display: none !important; }` so we also need the `!important` here to be able to override the default hidden behavior on the sphinx rendered scikit-learn.org. See: https://github.com/scikit-learn/scikit-learn/issues/21755 */display: inline-block !important;position: relative;}#sk-container-id-3 div.sk-text-repr-fallback {display: none;}</style><div id=\"sk-container-id-3\" class=\"sk-top-container\"><div class=\"sk-text-repr-fallback\"><pre>DecisionTreeClassifier(criterion=&#x27;entropy&#x27;, random_state=42)</pre><b>In a Jupyter environment, please rerun this cell to show the HTML representation or trust the notebook. <br />On GitHub, the HTML representation is unable to render, please try loading this page with nbviewer.org.</b></div><div class=\"sk-container\" hidden><div class=\"sk-item\"><div class=\"sk-estimator sk-toggleable\"><input class=\"sk-toggleable__control sk-hidden--visually\" id=\"sk-estimator-id-3\" type=\"checkbox\" checked><label for=\"sk-estimator-id-3\" class=\"sk-toggleable__label sk-toggleable__label-arrow\">DecisionTreeClassifier</label><div class=\"sk-toggleable__content\"><pre>DecisionTreeClassifier(criterion=&#x27;entropy&#x27;, random_state=42)</pre></div></div></div></div></div>"
            ]
          },
          "metadata": {},
          "execution_count": 45
        }
      ]
    },
    {
      "cell_type": "code",
      "source": [
        "dtc.feature_importances_"
      ],
      "metadata": {
        "colab": {
          "base_uri": "https://localhost:8080/"
        },
        "id": "7DxvGVpNa-Nd",
        "outputId": "324084f1-55de-4c8b-b55d-e616729c5d3a"
      },
      "execution_count": null,
      "outputs": [
        {
          "output_type": "execute_result",
          "data": {
            "text/plain": [
              "array([0.02100894, 0.01395648, 0.0068095 , 0.01986065, 0.01886452,\n",
              "       0.1627932 , 0.22212421, 0.00939177, 0.00344576, 0.01039829,\n",
              "       0.0019815 , 0.03128648, 0.00065123, 0.00849934, 0.        ,\n",
              "       0.01698366, 0.00622973, 0.        , 0.00964718, 0.01267467,\n",
              "       0.00027769, 0.00770208, 0.01299062, 0.00368329, 0.02047256,\n",
              "       0.00371587, 0.        , 0.00156955, 0.00671244, 0.0003825 ,\n",
              "       0.01126638, 0.03622159, 0.16358635, 0.07445054, 0.01758995,\n",
              "       0.02117825, 0.02183557, 0.01975766])"
            ]
          },
          "metadata": {},
          "execution_count": 46
        }
      ]
    },
    {
      "cell_type": "code",
      "source": [
        "predito_ArvoreDecisao = dtc.predict(X_teste)"
      ],
      "metadata": {
        "id": "NRuigAljbLaX"
      },
      "execution_count": null,
      "outputs": []
    },
    {
      "cell_type": "code",
      "source": [
        "predito_ArvoreDecisao "
      ],
      "metadata": {
        "colab": {
          "base_uri": "https://localhost:8080/"
        },
        "id": "n441OjkVbP2p",
        "outputId": "ac4087fc-d3c0-4787-9dbd-37886c429222"
      },
      "execution_count": null,
      "outputs": [
        {
          "output_type": "execute_result",
          "data": {
            "text/plain": [
              "array([0, 0, 0, ..., 1, 1, 1])"
            ]
          },
          "metadata": {},
          "execution_count": 48
        }
      ]
    },
    {
      "cell_type": "markdown",
      "source": [
        "**Validacao dos modelos**"
      ],
      "metadata": {
        "id": "wyhkGNqPcIcn"
      }
    },
    {
      "cell_type": "markdown",
      "source": [
        "**Matriz de confusão**\n",
        "![image.png](data:image/png;base64,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)"
      ],
      "metadata": {
        "id": "4_U_tv8Uclsq"
      }
    },
    {
      "cell_type": "code",
      "source": [
        "from sklearn.metrics import confusion_matrix"
      ],
      "metadata": {
        "id": "N8aNIbBPcGYE"
      },
      "execution_count": null,
      "outputs": []
    },
    {
      "cell_type": "code",
      "source": [
        "print(confusion_matrix(y_teste, predito_knn))"
      ],
      "metadata": {
        "id": "eNSenDUMdEgO",
        "colab": {
          "base_uri": "https://localhost:8080/"
        },
        "outputId": "04e02b6e-beb6-4fd0-bd3b-d33aa0f551d9"
      },
      "execution_count": null,
      "outputs": [
        {
          "output_type": "stream",
          "name": "stdout",
          "text": [
            "[[1242  327]\n",
            " [ 248 1288]]\n"
          ]
        }
      ]
    },
    {
      "cell_type": "code",
      "source": [
        "print(confusion_matrix(y_teste, predito_Bnb))\n",
        "#y_teste, primeiro vaor --> valor real, y teste\n",
        "#predito_knn --> valor predito pelo modelo"
      ],
      "metadata": {
        "colab": {
          "base_uri": "https://localhost:8080/"
        },
        "id": "aEeZcQvNdqFd",
        "outputId": "0d2e5f2e-1567-4bc5-b9ae-febd947d47b0"
      },
      "execution_count": null,
      "outputs": [
        {
          "output_type": "stream",
          "name": "stdout",
          "text": [
            "[[1084  485]\n",
            " [ 238 1298]]\n"
          ]
        }
      ]
    },
    {
      "cell_type": "code",
      "source": [
        "print(confusion_matrix(y_teste, predito_ArvoreDecisao))"
      ],
      "metadata": {
        "colab": {
          "base_uri": "https://localhost:8080/"
        },
        "id": "X5LIG5l5nnl_",
        "outputId": "61f7909a-300a-48d6-fc82-b2b6360214a4"
      },
      "execution_count": null,
      "outputs": [
        {
          "output_type": "stream",
          "name": "stdout",
          "text": [
            "[[1250  319]\n",
            " [ 275 1261]]\n"
          ]
        }
      ]
    },
    {
      "cell_type": "markdown",
      "source": [
        "**Acuracia** \n",
        "\n",
        "![image.png](data:image/png;base64,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)"
      ],
      "metadata": {
        "id": "1WRa0X56mdhG"
      }
    },
    {
      "cell_type": "code",
      "source": [
        "from sklearn.metrics import accuracy_score"
      ],
      "metadata": {
        "id": "vPR_jJmZf-Fl"
      },
      "execution_count": null,
      "outputs": []
    },
    {
      "cell_type": "code",
      "source": [
        "#KNN\n",
        "print(accuracy_score(y_teste, predito_knn)*100)"
      ],
      "metadata": {
        "colab": {
          "base_uri": "https://localhost:8080/"
        },
        "id": "IK9gBQGwm4T3",
        "outputId": "fe7f68fe-1f86-45df-ccd4-19155cc3babb"
      },
      "execution_count": null,
      "outputs": [
        {
          "output_type": "stream",
          "name": "stdout",
          "text": [
            "81.48148148148148\n"
          ]
        }
      ]
    },
    {
      "cell_type": "code",
      "source": [
        "#Bernoulli\n",
        "print(accuracy_score(y_teste, predito_Bnb)*100)"
      ],
      "metadata": {
        "colab": {
          "base_uri": "https://localhost:8080/"
        },
        "id": "WRh6rsC_nI4N",
        "outputId": "2e20dc5b-a505-4023-f389-39ff7a387b4c"
      },
      "execution_count": null,
      "outputs": [
        {
          "output_type": "stream",
          "name": "stdout",
          "text": [
            "76.71497584541062\n"
          ]
        }
      ]
    },
    {
      "cell_type": "code",
      "source": [
        "#Decision Tree\n",
        "print(accuracy_score(y_teste, predito_ArvoreDecisao)*100) "
      ],
      "metadata": {
        "colab": {
          "base_uri": "https://localhost:8080/"
        },
        "id": "Y5YkOy7WnZCe",
        "outputId": "c9358faa-d2cf-425b-846a-85020fa48f27"
      },
      "execution_count": null,
      "outputs": [
        {
          "output_type": "stream",
          "name": "stdout",
          "text": [
            "80.8695652173913\n"
          ]
        }
      ]
    },
    {
      "cell_type": "markdown",
      "source": [
        "Precisão dos testes\n",
        "\n",
        "![image.png](data:image/png;base64,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)"
      ],
      "metadata": {
        "id": "lfSkQPiRo2i0"
      }
    },
    {
      "cell_type": "markdown",
      "source": [
        "**A métrica de precisão calcula quantos dados foram classificados corretamente como positivos**"
      ],
      "metadata": {
        "id": "c0r9mFSarU0a"
      }
    },
    {
      "cell_type": "code",
      "source": [
        "from sklearn.metrics import precision_score"
      ],
      "metadata": {
        "id": "xlgauglqrXHe"
      },
      "execution_count": null,
      "outputs": []
    },
    {
      "cell_type": "code",
      "source": [
        "#KNN\n",
        "print(precision_score(y_teste, predito_knn)*100)"
      ],
      "metadata": {
        "id": "WJ1Bv1AhoTqB",
        "colab": {
          "base_uri": "https://localhost:8080/"
        },
        "outputId": "0299a3b4-38ea-4f33-9258-041efed1ca1b"
      },
      "execution_count": null,
      "outputs": [
        {
          "output_type": "stream",
          "name": "stdout",
          "text": [
            "79.75232198142415\n"
          ]
        }
      ]
    },
    {
      "cell_type": "code",
      "source": [
        "#Bernoulli \n",
        "print(precision_score(y_teste, predito_Bnb)*100)"
      ],
      "metadata": {
        "colab": {
          "base_uri": "https://localhost:8080/"
        },
        "id": "P8JHviQDrHPU",
        "outputId": "2f8baa89-8d62-4867-f669-53336029c84e"
      },
      "execution_count": null,
      "outputs": [
        {
          "output_type": "stream",
          "name": "stdout",
          "text": [
            "72.79865395401009\n"
          ]
        }
      ]
    },
    {
      "cell_type": "code",
      "source": [
        "#DecisionTree\n",
        "print(precision_score(y_teste, predito_ArvoreDecisao )*100) "
      ],
      "metadata": {
        "colab": {
          "base_uri": "https://localhost:8080/"
        },
        "id": "BRkyc7ZdrJiy",
        "outputId": "4c0176ee-5581-4402-cfe5-ce5d1271632b"
      },
      "execution_count": null,
      "outputs": [
        {
          "output_type": "stream",
          "name": "stdout",
          "text": [
            "79.81012658227849\n"
          ]
        }
      ]
    },
    {
      "cell_type": "markdown",
      "source": [
        "# RECALL \n",
        "\n",
        "Revocação ou sensibilidade, que calcula o quão bom o modelo é em classificar um resultado positivo (TP). \n",
        "\n",
        "![image.png](data:image/png;base64,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)"
      ],
      "metadata": {
        "id": "YvhzFCBatmre"
      }
    },
    {
      "cell_type": "code",
      "source": [
        "from sklearn.metrics import recall_score"
      ],
      "metadata": {
        "id": "wiUW9SsWrL2z"
      },
      "execution_count": null,
      "outputs": []
    },
    {
      "cell_type": "code",
      "source": [
        "#KNN \n",
        "print(recall_score(y_teste, predito_knn)*100)"
      ],
      "metadata": {
        "colab": {
          "base_uri": "https://localhost:8080/"
        },
        "id": "rBn2GShlvCgB",
        "outputId": "69b745a9-f69d-4e60-ed43-e0e90fee4741"
      },
      "execution_count": null,
      "outputs": [
        {
          "output_type": "stream",
          "name": "stdout",
          "text": [
            "83.85416666666666\n"
          ]
        }
      ]
    },
    {
      "cell_type": "code",
      "source": [
        "#Bernoulli \n",
        "print(recall_score(y_teste, predito_Bnb)*100)"
      ],
      "metadata": {
        "colab": {
          "base_uri": "https://localhost:8080/"
        },
        "id": "7Novm86ivEQL",
        "outputId": "53f5b81d-4d8b-4d26-ae10-770f2f35b4f7"
      },
      "execution_count": null,
      "outputs": [
        {
          "output_type": "stream",
          "name": "stdout",
          "text": [
            "84.50520833333334\n"
          ]
        }
      ]
    },
    {
      "cell_type": "code",
      "source": [
        "#DecisionTree\n",
        "print(recall_score(y_teste, predito_ArvoreDecisao)*100)"
      ],
      "metadata": {
        "colab": {
          "base_uri": "https://localhost:8080/"
        },
        "id": "5LijrIqmvF82",
        "outputId": "0b24a15f-d396-462d-ec3a-64788f5de476"
      },
      "execution_count": null,
      "outputs": [
        {
          "output_type": "stream",
          "name": "stdout",
          "text": [
            "82.09635416666666\n"
          ]
        }
      ]
    },
    {
      "cell_type": "code",
      "source": [],
      "metadata": {
        "id": "aGVZmTMawAJS"
      },
      "execution_count": null,
      "outputs": []
    }
  ]
}